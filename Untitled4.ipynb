{
 "cells": [
  {
   "cell_type": "code",
   "execution_count": 1,
   "metadata": {},
   "outputs": [],
   "source": [
    "from prostrat import *"
   ]
  },
  {
   "cell_type": "code",
   "execution_count": 2,
   "metadata": {},
   "outputs": [],
   "source": [
    "util.startLoop()"
   ]
  },
  {
   "cell_type": "code",
   "execution_count": 3,
   "metadata": {},
   "outputs": [
    {
     "name": "stderr",
     "output_type": "stream",
     "text": [
      "INFO:ib_insync.client:Connecting to 127.0.0.1:7497 with clientId 10...\n",
      "INFO:ib_insync.client:Connected\n",
      "INFO:ib_insync.client:Logged on to server version 151\n",
      "INFO:ib_insync.client:API connection ready\n",
      "INFO:ib_insync.wrapper:Warning 2104, reqId -1: Market data farm connection is OK:usfarm.nj\n",
      "INFO:ib_insync.wrapper:Warning 2104, reqId -1: Market data farm connection is OK:hfarm\n",
      "INFO:ib_insync.wrapper:Warning 2104, reqId -1: Market data farm connection is OK:usfuture\n",
      "INFO:ib_insync.wrapper:Warning 2104, reqId -1: Market data farm connection is OK:jfarm\n",
      "INFO:ib_insync.wrapper:Warning 2104, reqId -1: Market data farm connection is OK:eufarm\n",
      "INFO:ib_insync.wrapper:Warning 2104, reqId -1: Market data farm connection is OK:cashfarm\n",
      "INFO:ib_insync.wrapper:Warning 2104, reqId -1: Market data farm connection is OK:usfarm\n",
      "INFO:ib_insync.wrapper:Warning 2106, reqId -1: HMDS data farm connection is OK:euhmds\n",
      "INFO:ib_insync.wrapper:Warning 2106, reqId -1: HMDS data farm connection is OK:fundfarm\n",
      "INFO:ib_insync.wrapper:Warning 2106, reqId -1: HMDS data farm connection is OK:ushmds\n",
      "INFO:ib_insync.wrapper:updatePortfolio: PortfolioItem(contract=Future(conId=310629209, symbol='ES', lastTradeDateOrContractMonth='20190621', right='0', multiplier='50', primaryExchange='GLOBEX', currency='USD', localSymbol='ESM9', tradingClass='ES'), position=-1.0, marketPrice=2922.25, marketValue=-146112.5, averageCost=145553.7893, unrealizedPNL=-558.71, realizedPNL=-573.26, account='DU1374127')\n",
      "INFO:ib_insync.wrapper:position: Position(account='DU1374127', contract=Future(conId=310629209, symbol='ES', lastTradeDateOrContractMonth='20190621', multiplier='50', currency='USD', localSymbol='ESM9', tradingClass='ES'), position=-1.0, avgCost=145553.7893)\n",
      "INFO:ib_insync.wrapper:commissionReport: CommissionReport(execId='0000e1a7.5d092afb.01.01', commission=2.05, currency='USD', realizedPNL=-573.2607)\n",
      "INFO:ib_insync.ib:Synchronization complete\n"
     ]
    }
   ],
   "source": [
    "profinit(10)"
   ]
  },
  {
   "cell_type": "code",
   "execution_count": 4,
   "metadata": {},
   "outputs": [],
   "source": [
    "contract = Future('ES', '201906', 'GLOBEX')"
   ]
  },
  {
   "cell_type": "code",
   "execution_count": 5,
   "metadata": {
    "scrolled": true
   },
   "outputs": [
    {
     "name": "stderr",
     "output_type": "stream",
     "text": [
      "/home/igor/anaconda3/envs/proph/lib/python3.7/site-packages/pandas/core/generic.py:5096: SettingWithCopyWarning: \n",
      "A value is trying to be set on a copy of a slice from a DataFrame.\n",
      "Try using .loc[row_indexer,col_indexer] = value instead\n",
      "\n",
      "See the caveats in the documentation: http://pandas.pydata.org/pandas-docs/stable/indexing.html#indexing-view-versus-copy\n",
      "  self[name] = value\n",
      "/home/igor/anaconda3/envs/proph/lib/python3.7/site-packages/fbprophet/forecaster.py:880: FutureWarning: Series.nonzero() is deprecated and will be removed in a future version.Use Series.to_numpy().nonzero() instead\n",
      "  min_dt = dt.iloc[dt.nonzero()[0]].min()\n",
      "INFO:fbprophet:Disabling yearly seasonality. Run prophet with yearly_seasonality=True to override this.\n",
      "INFO:fbprophet:Disabling weekly seasonality. Run prophet with weekly_seasonality=True to override this.\n",
      "INFO:fbprophet:Disabling daily seasonality. Run prophet with daily_seasonality=True to override this.\n",
      "INFO:ib_insync.ib:placeOrder: New order Trade(contract=Future(symbol='ES', lastTradeDateOrContractMonth='201906', exchange='GLOBEX'), order=MarketOrder(orderId=8, clientId=10, action='BUY', totalQuantity=1, conditions=[], softDollarTier=SoftDollarTier()), orderStatus=OrderStatus(status='PendingSubmit'), fills=[], log=[TradeLogEntry(time=datetime.datetime(2019, 6, 18, 18, 41, 50, 538960, tzinfo=datetime.timezone.utc), status='PendingSubmit', message='')])\n",
      "INFO:ib_insync.wrapper:orderStatus: Trade(contract=Future(symbol='ES', lastTradeDateOrContractMonth='201906', exchange='GLOBEX'), order=MarketOrder(orderId=8, clientId=10, permId=175660333, action='BUY', totalQuantity=1, lmtPrice=2922.0, auxPrice=0.0, tif='DAY', ocaType=3, trailStopPrice=2923.0, volatilityType=0, deltaNeutralOrderType='None', referencePriceType=0, account='DU1374127', clearingIntent='IB', orderComboLegs=[], adjustedOrderType='None', conditions=[], softDollarTier=SoftDollarTier(), cashQty=0.0, dontUseAutoPriceForHedge=True), orderStatus=OrderStatus(status='PreSubmitted', remaining=1.0, permId=175660333, clientId=10, whyHeld='locate'), fills=[], log=[TradeLogEntry(time=datetime.datetime(2019, 6, 18, 18, 41, 50, 538960, tzinfo=datetime.timezone.utc), status='PendingSubmit', message=''), TradeLogEntry(time=datetime.datetime(2019, 6, 18, 18, 41, 50, 572790, tzinfo=datetime.timezone.utc), status='PreSubmitted', message='')])\n",
      "INFO:ib_insync.wrapper:position: Position(account='DU1374127', contract=Future(conId=310629209, symbol='ES', lastTradeDateOrContractMonth='20190621', multiplier='50', currency='USD', localSymbol='ESM9', tradingClass='ES'), position=0.0, avgCost=0.0)\n",
      "INFO:ib_insync.wrapper:execDetails: Fill(contract=Future(conId=310629209, symbol='ES', lastTradeDateOrContractMonth='20190621', multiplier='50', exchange='GLOBEX', currency='USD', localSymbol='ESM9', tradingClass='ES'), execution=Execution(execId='0000e1a7.5d092b71.01.01', time=datetime.datetime(2019, 6, 18, 18, 41, 50, tzinfo=datetime.timezone.utc), acctNumber='DU1374127', exchange='GLOBEX', side='BOT', shares=1.0, price=2922.0, permId=175660333, clientId=10, orderId=8, cumQty=1.0, avgPrice=2922.0, lastLiquidity=1), commissionReport=CommissionReport(), time=datetime.datetime(2019, 6, 18, 18, 41, 50, 639470, tzinfo=datetime.timezone.utc))\n",
      "INFO:ib_insync.wrapper:orderStatus: Trade(contract=Future(symbol='ES', lastTradeDateOrContractMonth='201906', exchange='GLOBEX'), order=MarketOrder(orderId=8, clientId=10, permId=175660333, action='BUY', totalQuantity=1, lmtPrice=2922.0, auxPrice=0.0, tif='DAY', ocaType=3, trailStopPrice=2923.0, volatilityType=0, deltaNeutralOrderType='None', referencePriceType=0, account='DU1374127', clearingIntent='IB', orderComboLegs=[], adjustedOrderType='None', conditions=[], softDollarTier=SoftDollarTier(), cashQty=0.0, dontUseAutoPriceForHedge=True), orderStatus=OrderStatus(status='Filled', filled=1.0, avgFillPrice=2922.0, permId=175660333, lastFillPrice=2922.0, clientId=10), fills=[Fill(contract=Future(conId=310629209, symbol='ES', lastTradeDateOrContractMonth='20190621', multiplier='50', exchange='GLOBEX', currency='USD', localSymbol='ESM9', tradingClass='ES'), execution=Execution(execId='0000e1a7.5d092b71.01.01', time=datetime.datetime(2019, 6, 18, 18, 41, 50, tzinfo=datetime.timezone.utc), acctNumber='DU1374127', exchange='GLOBEX', side='BOT', shares=1.0, price=2922.0, permId=175660333, clientId=10, orderId=8, cumQty=1.0, avgPrice=2922.0, lastLiquidity=1), commissionReport=CommissionReport(), time=datetime.datetime(2019, 6, 18, 18, 41, 50, 639470, tzinfo=datetime.timezone.utc))], log=[TradeLogEntry(time=datetime.datetime(2019, 6, 18, 18, 41, 50, 538960, tzinfo=datetime.timezone.utc), status='PendingSubmit', message=''), TradeLogEntry(time=datetime.datetime(2019, 6, 18, 18, 41, 50, 572790, tzinfo=datetime.timezone.utc), status='PreSubmitted', message=''), TradeLogEntry(time=datetime.datetime(2019, 6, 18, 18, 41, 50, 639470, tzinfo=datetime.timezone.utc), status='PreSubmitted', message='Fill 1.0@2922.0'), TradeLogEntry(time=datetime.datetime(2019, 6, 18, 18, 41, 50, 642734, tzinfo=datetime.timezone.utc), status='Filled', message='')])\n",
      "INFO:ib_insync.wrapper:commissionReport: CommissionReport(execId='0000e1a7.5d092b71.01.01', commission=2.05, currency='USD', realizedPNL=-548.2607)\n",
      "INFO:ib_insync.wrapper:updatePortfolio: PortfolioItem(contract=Future(conId=310629209, symbol='ES', lastTradeDateOrContractMonth='20190621', right='0', multiplier='50', primaryExchange='GLOBEX', currency='USD', localSymbol='ESM9', tradingClass='ES'), position=0.0, marketPrice=2921.99975585, marketValue=0.0, averageCost=0.0, unrealizedPNL=0.0, realizedPNL=-1121.52, account='DU1374127')\n",
      "INFO:ib_insync.wrapper:updatePortfolio: PortfolioItem(contract=Future(conId=310629209, symbol='ES', lastTradeDateOrContractMonth='20190621', right='0', multiplier='50', primaryExchange='GLOBEX', currency='USD', localSymbol='ESM9', tradingClass='ES'), position=0.0, marketPrice=2922.25, marketValue=0.0, averageCost=0.0, unrealizedPNL=0.0, realizedPNL=-1121.52, account='DU1374127')\n",
      "INFO:ib_insync.wrapper:updatePortfolio: PortfolioItem(contract=Future(conId=310629209, symbol='ES', lastTradeDateOrContractMonth='20190621', right='0', multiplier='50', primaryExchange='GLOBEX', currency='USD', localSymbol='ESM9', tradingClass='ES'), position=0.0, marketPrice=2922.25, marketValue=0.0, averageCost=0.0, unrealizedPNL=0.0, realizedPNL=-1121.52, account='DU1374127')\n",
      "INFO:ib_insync.wrapper:position: Position(account='DU1374127', contract=Future(conId=310629209, symbol='ES', lastTradeDateOrContractMonth='20190621', multiplier='50', currency='USD', localSymbol='ESM9', tradingClass='ES'), position=0.0, avgCost=0.0)\n"
     ]
    }
   ],
   "source": [
    "protrader(contract, 0.0005)"
   ]
  },
  {
   "cell_type": "code",
   "execution_count": null,
   "metadata": {},
   "outputs": [],
   "source": [
    "fro"
   ]
  }
 ],
 "metadata": {
  "kernelspec": {
   "display_name": "prophetic",
   "language": "python",
   "name": "proph"
  },
  "language_info": {
   "codemirror_mode": {
    "name": "ipython",
    "version": 3
   },
   "file_extension": ".py",
   "mimetype": "text/x-python",
   "name": "python",
   "nbconvert_exporter": "python",
   "pygments_lexer": "ipython3",
   "version": "3.7.3"
  }
 },
 "nbformat": 4,
 "nbformat_minor": 2
}
