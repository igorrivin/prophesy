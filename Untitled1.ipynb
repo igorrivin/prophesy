{
 "cells": [
  {
   "cell_type": "code",
   "execution_count": 1,
   "metadata": {},
   "outputs": [],
   "source": [
    "from prostrat import *"
   ]
  },
  {
   "cell_type": "code",
   "execution_count": 2,
   "metadata": {},
   "outputs": [],
   "source": [
    "import pandas as pd\n",
    "import numpy as np"
   ]
  },
  {
   "cell_type": "code",
   "execution_count": 3,
   "metadata": {},
   "outputs": [],
   "source": [
    "util.startLoop()"
   ]
  },
  {
   "cell_type": "code",
   "execution_count": 4,
   "metadata": {},
   "outputs": [
    {
     "name": "stderr",
     "output_type": "stream",
     "text": [
      "INFO:ib_insync.client:Connecting to 127.0.0.1:7497 with clientId 18...\n",
      "INFO:ib_insync.client:Connected\n",
      "INFO:ib_insync.client:Logged on to server version 151\n",
      "INFO:ib_insync.wrapper:Warning 2104, reqId -1: Market data farm connection is OK:hfarm\n",
      "INFO:ib_insync.wrapper:Warning 2104, reqId -1: Market data farm connection is OK:usfarm.nj\n",
      "INFO:ib_insync.wrapper:Warning 2104, reqId -1: Market data farm connection is OK:eufarm\n",
      "INFO:ib_insync.wrapper:Warning 2104, reqId -1: Market data farm connection is OK:jfarm\n",
      "INFO:ib_insync.wrapper:Warning 2104, reqId -1: Market data farm connection is OK:usfuture\n",
      "INFO:ib_insync.wrapper:Warning 2104, reqId -1: Market data farm connection is OK:cashfarm\n",
      "INFO:ib_insync.wrapper:Warning 2104, reqId -1: Market data farm connection is OK:usfarm\n",
      "INFO:ib_insync.wrapper:Warning 2106, reqId -1: HMDS data farm connection is OK:euhmds\n",
      "INFO:ib_insync.wrapper:Warning 2106, reqId -1: HMDS data farm connection is OK:fundfarm\n",
      "INFO:ib_insync.wrapper:Warning 2106, reqId -1: HMDS data farm connection is OK:ushmds\n",
      "INFO:ib_insync.client:API connection ready\n",
      "INFO:ib_insync.wrapper:updatePortfolio: PortfolioItem(contract=Stock(conId=265655, symbol='ABMD', right='0', primaryExchange='NASDAQ', currency='USD', localSymbol='ABMD', tradingClass='NMS'), position=-400.0, marketPrice=274.91000365, marketValue=-109964.0, averageCost=274.6941945, unrealizedPNL=-86.32, realizedPNL=0.0, account='DU1131437')\n",
      "INFO:ib_insync.wrapper:updatePortfolio: PortfolioItem(contract=Stock(conId=173962302, symbol='ANTM', right='0', primaryExchange='NYSE', currency='USD', localSymbol='ANTM', tradingClass='ANTM'), position=-400.0, marketPrice=266.4299927, marketValue=-106572.0, averageCost=265.2793895, unrealizedPNL=-460.24, realizedPNL=0.0, account='DU1131437')\n",
      "INFO:ib_insync.wrapper:updatePortfolio: PortfolioItem(contract=Stock(conId=4472, symbol='APA', right='0', primaryExchange='NYSE', currency='USD', localSymbol='APA', tradingClass='APA'), position=3100.0, marketPrice=33.0099983, marketValue=102330.99, averageCost=32.835, unrealizedPNL=542.49, realizedPNL=0.0, account='DU1131437')\n",
      "INFO:ib_insync.wrapper:updatePortfolio: PortfolioItem(contract=Stock(conId=4482, symbol='APC', right='0', primaryExchange='NYSE', currency='USD', localSymbol='APC', tradingClass='APC'), position=-1400.0, marketPrice=72.80000305, marketValue=-101920.0, averageCost=72.63337735, unrealizedPNL=-233.28, realizedPNL=0.0, account='DU1131437')\n",
      "INFO:ib_insync.wrapper:updatePortfolio: PortfolioItem(contract=Stock(conId=26734397, symbol='BIIB', right='0', primaryExchange='NASDAQ', currency='USD', localSymbol='BIIB', tradingClass='NMS'), position=-500.0, marketPrice=230.0, marketValue=-115000.0, averageCost=229.6761264, unrealizedPNL=-161.94, realizedPNL=0.0, account='DU1131437')\n",
      "INFO:ib_insync.wrapper:updatePortfolio: PortfolioItem(contract=Stock(conId=267661, symbol='CINF', right='0', primaryExchange='NASDAQ', currency='USD', localSymbol='CINF', tradingClass='NMS'), position=-1100.0, marketPrice=94.19999695, marketValue=-103620.0, averageCost=93.9892989, unrealizedPNL=-231.77, realizedPNL=0.0, account='DU1131437')\n",
      "INFO:ib_insync.wrapper:updatePortfolio: PortfolioItem(contract=Stock(conId=6890, symbol='EOG', right='0', primaryExchange='NYSE', currency='USD', localSymbol='EOG', tradingClass='EOG'), position=100.0, marketPrice=98.08000185, marketValue=9808.0, averageCost=97.5, unrealizedPNL=58.0, realizedPNL=0.0, account='DU1131437')\n",
      "INFO:ib_insync.wrapper:updatePortfolio: PortfolioItem(contract=Stock(conId=9599491, symbol='F', right='0', primaryExchange='NYSE', currency='USD', localSymbol='F', tradingClass='F'), position=-10000.0, marketPrice=10.3699999, marketValue=-103700.0, averageCost=10.33466695, unrealizedPNL=-353.33, realizedPNL=0.0, account='DU1131437')\n",
      "INFO:ib_insync.wrapper:updatePortfolio: PortfolioItem(contract=Stock(conId=5100583, symbol='FDX', right='0', primaryExchange='NYSE', currency='USD', localSymbol='FDX', tradingClass='FDX'), position=600.0, marketPrice=184.0399933, marketValue=110424.0, averageCost=183.095, unrealizedPNL=567.0, realizedPNL=0.0, account='DU1131437')\n",
      "INFO:ib_insync.wrapper:updatePortfolio: PortfolioItem(contract=Stock(conId=270639, symbol='INTC', right='0', primaryExchange='NASDAQ', currency='USD', localSymbol='INTC', tradingClass='NMS'), position=2000.0, marketPrice=52.52000045, marketValue=105040.0, averageCost=51.735, unrealizedPNL=1570.0, realizedPNL=0.0, account='DU1131437')\n",
      "INFO:ib_insync.wrapper:updatePortfolio: PortfolioItem(contract=Stock(conId=180350774, symbol='IRM', right='0', primaryExchange='NYSE', currency='USD', localSymbol='IRM', tradingClass='IRM'), position=3100.0, marketPrice=32.5, marketValue=100750.0, averageCost=32.305, unrealizedPNL=604.5, realizedPNL=0.0, account='DU1131437')\n",
      "INFO:ib_insync.wrapper:updatePortfolio: PortfolioItem(contract=Stock(conId=8809, symbol='KEY', right='0', primaryExchange='NYSE', currency='USD', localSymbol='KEY', tradingClass='KEY'), position=-6000.0, marketPrice=17.28240015, marketValue=-103694.4, averageCost=17.17452535, unrealizedPNL=-647.25, realizedPNL=0.0, account='DU1131437')\n",
      "INFO:ib_insync.wrapper:updatePortfolio: PortfolioItem(contract=Stock(conId=9720, symbol='MMM', right='0', primaryExchange='NYSE', currency='USD', localSymbol='MMM', tradingClass='MMM'), position=600.0, marketPrice=191.6000061, marketValue=114960.0, averageCost=190.83333335, unrealizedPNL=460.0, realizedPNL=0.0, account='DU1131437')\n",
      "INFO:ib_insync.wrapper:updatePortfolio: PortfolioItem(contract=Stock(conId=196986496, symbol='MNST', right='0', primaryExchange='NASDAQ', currency='USD', localSymbol='MNST', tradingClass='NMS'), position=-1900.0, marketPrice=59.65999985, marketValue=-113354.0, averageCost=59.0436587, unrealizedPNL=-1171.05, realizedPNL=0.0, account='DU1131437')\n",
      "INFO:ib_insync.wrapper:updatePortfolio: PortfolioItem(contract=Stock(conId=4815747, symbol='NVDA', right='0', primaryExchange='NASDAQ', currency='USD', localSymbol='NVDA', tradingClass='NMS'), position=600.0, marketPrice=177.8999939, marketValue=106740.0, averageCost=176.2562, unrealizedPNL=986.28, realizedPNL=0.0, account='DU1131437')\n",
      "INFO:ib_insync.wrapper:updatePortfolio: PortfolioItem(contract=Stock(conId=273544, symbol='QCOM', right='0', primaryExchange='NASDAQ', currency='USD', localSymbol='QCOM', tradingClass='NMS'), position=-1200.0, marketPrice=86.87000275, marketValue=-104244.0, averageCost=86.223096, unrealizedPNL=-776.29, realizedPNL=0.0, account='DU1131437')\n",
      "INFO:ib_insync.wrapper:updatePortfolio: PortfolioItem(contract=Stock(conId=273815, symbol='RF', right='0', primaryExchange='NYSE', currency='USD', localSymbol='RF', tradingClass='RF'), position=-7000.0, marketPrice=15.5500002, marketValue=-108850.0, averageCost=15.51455975, unrealizedPNL=-248.08, realizedPNL=0.0, account='DU1131437')\n",
      "INFO:ib_insync.wrapper:updatePortfolio: PortfolioItem(contract=Stock(conId=76915240, symbol='STX', right='0', primaryExchange='NASDAQ', currency='USD', localSymbol='STX', tradingClass='NMS'), position=2200.0, marketPrice=44.9830017, marketValue=98962.6, averageCost=44.84, unrealizedPNL=314.6, realizedPNL=0.0, account='DU1131437')\n",
      "INFO:ib_insync.wrapper:updatePortfolio: PortfolioItem(contract=Stock(conId=6231002, symbol='UPS', right='0', primaryExchange='NYSE', currency='USD', localSymbol='UPS', tradingClass='UPS'), position=1000.0, marketPrice=103.91000365, marketValue=103910.0, averageCost=103.285, unrealizedPNL=625.0, realizedPNL=0.0, account='DU1131437')\n",
      "INFO:ib_insync.wrapper:updatePortfolio: PortfolioItem(contract=Forex('USDCHF', conId=12087820, right='0', primaryExchange='IDEALPRO', localSymbol='USD.CHF', tradingClass='USD.CHF'), position=-25000.0, marketPrice=1.019825, marketValue=-25495.62, averageCost=1.01618, unrealizedPNL=-91.12, realizedPNL=0.0, account='DU1131437')\n",
      "INFO:ib_insync.wrapper:updatePortfolio: PortfolioItem(contract=Stock(conId=276222, symbol='XLNX', right='0', primaryExchange='NASDAQ', currency='USD', localSymbol='XLNX', tradingClass='NMS'), position=900.0, marketPrice=119.0400009, marketValue=107136.0, averageCost=117.785, unrealizedPNL=1129.5, realizedPNL=0.0, account='DU1131437')\n",
      "INFO:ib_insync.wrapper:position: Position(account='DU1131437', contract=Stock(conId=199169586, symbol='KHC', exchange='NASDAQ', currency='USD', localSymbol='KHC', tradingClass='NMS'), position=0.0, avgCost=0.0)\n"
     ]
    },
    {
     "name": "stderr",
     "output_type": "stream",
     "text": [
      "INFO:ib_insync.wrapper:position: Position(account='DU1131437', contract=Stock(conId=6890, symbol='EOG', exchange='NYSE', currency='USD', localSymbol='EOG', tradingClass='EOG'), position=100.0, avgCost=97.5)\n",
      "INFO:ib_insync.wrapper:position: Position(account='DU1131437', contract=Stock(conId=5100583, symbol='FDX', exchange='NYSE', currency='USD', localSymbol='FDX', tradingClass='FDX'), position=600.0, avgCost=183.095)\n",
      "INFO:ib_insync.wrapper:position: Position(account='DU1131437', contract=Stock(conId=137780444, symbol='TWTR', exchange='NYSE', currency='USD', localSymbol='TWTR', tradingClass='TWTR'), position=0.0, avgCost=0.0)\n",
      "INFO:ib_insync.wrapper:position: Position(account='DU1131437', contract=Stock(conId=8809, symbol='KEY', exchange='NYSE', currency='USD', localSymbol='KEY', tradingClass='KEY'), position=-6000.0, avgCost=17.17452535)\n",
      "INFO:ib_insync.wrapper:position: Position(account='DU1131437', contract=Stock(conId=356576040, symbol='DOW', exchange='NYSE', currency='USD', localSymbol='DOW', tradingClass='DOW'), position=0.0, avgCost=0.0)\n",
      "INFO:ib_insync.wrapper:position: Position(account='DU1131437', contract=Stock(conId=173962302, symbol='ANTM', exchange='NYSE', currency='USD', localSymbol='ANTM', tradingClass='ANTM'), position=-400.0, avgCost=265.2793895)\n",
      "INFO:ib_insync.wrapper:position: Position(account='DU1131437', contract=Stock(conId=7935, symbol='HOG', exchange='NYSE', currency='USD', localSymbol='HOG', tradingClass='HOG'), position=0.0, avgCost=0.0)\n",
      "INFO:ib_insync.wrapper:position: Position(account='DU1131437', contract=Stock(conId=276222, symbol='XLNX', exchange='NASDAQ', currency='USD', localSymbol='XLNX', tradingClass='NMS'), position=900.0, avgCost=117.785)\n",
      "INFO:ib_insync.wrapper:position: Position(account='DU1131437', contract=Stock(conId=4472, symbol='APA', exchange='NYSE', currency='USD', localSymbol='APA', tradingClass='APA'), position=3100.0, avgCost=32.835)\n",
      "INFO:ib_insync.wrapper:position: Position(account='DU1131437', contract=Stock(conId=9720, symbol='MMM', exchange='NYSE', currency='USD', localSymbol='MMM', tradingClass='MMM'), position=600.0, avgCost=190.83333335)\n",
      "INFO:ib_insync.wrapper:position: Position(account='DU1131437', contract=Stock(conId=4815747, symbol='NVDA', exchange='NASDAQ', currency='USD', localSymbol='NVDA', tradingClass='NMS'), position=600.0, avgCost=176.2562)\n",
      "INFO:ib_insync.wrapper:position: Position(account='DU1131437', contract=Stock(conId=270639, symbol='INTC', exchange='NASDAQ', currency='USD', localSymbol='INTC', tradingClass='NMS'), position=2000.0, avgCost=51.735)\n",
      "INFO:ib_insync.wrapper:position: Position(account='DU1131437', contract=Stock(conId=26734397, symbol='BIIB', exchange='NASDAQ', currency='USD', localSymbol='BIIB', tradingClass='NMS'), position=-500.0, avgCost=229.6761264)\n",
      "INFO:ib_insync.wrapper:position: Position(account='DU1131437', contract=Stock(conId=10174, symbol='NEM', exchange='NYSE', currency='USD', localSymbol='NEM', tradingClass='NEM'), position=0.0, avgCost=0.0)\n",
      "INFO:ib_insync.wrapper:position: Position(account='DU1131437', contract=Stock(conId=76915240, symbol='STX', exchange='NASDAQ', currency='USD', localSymbol='STX', tradingClass='NMS'), position=2200.0, avgCost=44.84)\n",
      "INFO:ib_insync.wrapper:position: Position(account='DU1131437', contract=Stock(conId=196986496, symbol='MNST', exchange='NASDAQ', currency='USD', localSymbol='MNST', tradingClass='NMS'), position=-1900.0, avgCost=59.0436587)\n",
      "INFO:ib_insync.wrapper:position: Position(account='DU1131437', contract=Stock(conId=1448494, symbol='WAT', exchange='NYSE', currency='USD', localSymbol='WAT', tradingClass='WAT'), position=0.0, avgCost=0.0)\n",
      "INFO:ib_insync.wrapper:position: Position(account='DU1131437', contract=Forex('USDCHF', conId=12087820, localSymbol='USD.CHF', tradingClass='USD.CHF'), position=-25000.0, avgCost=1.01618)\n",
      "INFO:ib_insync.wrapper:position: Position(account='DU1131437', contract=Stock(conId=11700, symbol='ROL', exchange='NYSE', currency='USD', localSymbol='ROL', tradingClass='ROL'), position=0.0, avgCost=0.0)\n",
      "INFO:ib_insync.wrapper:position: Position(account='DU1131437', contract=Stock(conId=265655, symbol='ABMD', exchange='NASDAQ', currency='USD', localSymbol='ABMD', tradingClass='NMS'), position=-400.0, avgCost=274.6941945)\n",
      "INFO:ib_insync.wrapper:position: Position(account='DU1131437', contract=Stock(conId=273544, symbol='QCOM', exchange='NASDAQ', currency='USD', localSymbol='QCOM', tradingClass='NMS'), position=-1200.0, avgCost=86.223096)\n",
      "INFO:ib_insync.wrapper:position: Position(account='DU1131437', contract=Stock(conId=267661, symbol='CINF', exchange='NASDAQ', currency='USD', localSymbol='CINF', tradingClass='NMS'), position=-1100.0, avgCost=93.9892989)\n",
      "INFO:ib_insync.wrapper:position: Position(account='DU1131437', contract=Stock(conId=180350774, symbol='IRM', exchange='NYSE', currency='USD', localSymbol='IRM', tradingClass='IRM'), position=3100.0, avgCost=32.305)\n",
      "INFO:ib_insync.wrapper:position: Position(account='DU1131437', contract=Stock(conId=754956, symbol='HAS', exchange='NASDAQ', currency='USD', localSymbol='HAS', tradingClass='NMS'), position=0.0, avgCost=0.0)\n",
      "INFO:ib_insync.wrapper:position: Position(account='DU1131437', contract=Stock(conId=6231002, symbol='UPS', exchange='NYSE', currency='USD', localSymbol='UPS', tradingClass='UPS'), position=1000.0, avgCost=103.285)\n",
      "INFO:ib_insync.wrapper:position: Position(account='DU1131437', contract=Stock(conId=4482, symbol='APC', exchange='NYSE', currency='USD', localSymbol='APC', tradingClass='APC'), position=-1400.0, avgCost=72.63337735)\n",
      "INFO:ib_insync.wrapper:position: Position(account='DU1131437', contract=Stock(conId=273815, symbol='RF', exchange='NYSE', currency='USD', localSymbol='RF', tradingClass='RF'), position=-7000.0, avgCost=15.51455975)\n",
      "INFO:ib_insync.wrapper:position: Position(account='DU1131437', contract=Stock(conId=9599491, symbol='F', exchange='NYSE', currency='USD', localSymbol='F', tradingClass='F'), position=-10000.0, avgCost=10.33466695)\n",
      "INFO:ib_insync.ib:Synchronization complete\n"
     ]
    }
   ],
   "source": [
    "profinit(18, socknum=7497)"
   ]
  },
  {
   "cell_type": "code",
   "execution_count": 5,
   "metadata": {},
   "outputs": [],
   "source": [
    "thedf = pd.read_csv('currencies.csv', index_col=0)"
   ]
  },
  {
   "cell_type": "code",
   "execution_count": 6,
   "metadata": {},
   "outputs": [],
   "source": [
    "symbols = list(thedf[thedf.columns[0]])"
   ]
  },
  {
   "cell_type": "code",
   "execution_count": 7,
   "metadata": {},
   "outputs": [
    {
     "data": {
      "text/plain": [
       "['ACD',\n",
       " 'AJY',\n",
       " 'AUD',\n",
       " 'CAD',\n",
       " 'CHF',\n",
       " 'CJY',\n",
       " 'E7',\n",
       " 'EAD',\n",
       " 'ECD',\n",
       " 'EUR',\n",
       " 'GBP',\n",
       " 'J7',\n",
       " 'JPY',\n",
       " 'M6A',\n",
       " 'M6B',\n",
       " 'M6E',\n",
       " 'MCD',\n",
       " 'MJY',\n",
       " 'MSF',\n",
       " 'NZD',\n",
       " 'PJY',\n",
       " 'PSF',\n",
       " 'RF',\n",
       " 'RP',\n",
       " 'RY',\n",
       " 'SJY']"
      ]
     },
     "execution_count": 7,
     "metadata": {},
     "output_type": "execute_result"
    }
   ],
   "source": [
    "symbols"
   ]
  },
  {
   "cell_type": "code",
   "execution_count": 8,
   "metadata": {},
   "outputs": [],
   "source": [
    "preddict = {}"
   ]
  },
  {
   "cell_type": "code",
   "execution_count": 9,
   "metadata": {
    "scrolled": true
   },
   "outputs": [
    {
     "name": "stderr",
     "output_type": "stream",
     "text": [
      "/home/igor/anaconda3/envs/proph/lib/python3.7/site-packages/pandas/core/generic.py:5096: SettingWithCopyWarning: \n",
      "A value is trying to be set on a copy of a slice from a DataFrame.\n",
      "Try using .loc[row_indexer,col_indexer] = value instead\n",
      "\n",
      "See the caveats in the documentation: http://pandas.pydata.org/pandas-docs/stable/indexing.html#indexing-view-versus-copy\n",
      "  self[name] = value\n",
      "/home/igor/anaconda3/envs/proph/lib/python3.7/site-packages/fbprophet/forecaster.py:880: FutureWarning: Series.nonzero() is deprecated and will be removed in a future version.Use Series.to_numpy().nonzero() instead\n",
      "  min_dt = dt.iloc[dt.nonzero()[0]].min()\n",
      "INFO:fbprophet:Disabling yearly seasonality. Run prophet with yearly_seasonality=True to override this.\n",
      "/home/igor/anaconda3/envs/proph/lib/python3.7/site-packages/pandas/core/generic.py:5096: SettingWithCopyWarning: \n",
      "A value is trying to be set on a copy of a slice from a DataFrame.\n",
      "Try using .loc[row_indexer,col_indexer] = value instead\n",
      "\n",
      "See the caveats in the documentation: http://pandas.pydata.org/pandas-docs/stable/indexing.html#indexing-view-versus-copy\n",
      "  self[name] = value\n",
      "/home/igor/anaconda3/envs/proph/lib/python3.7/site-packages/fbprophet/forecaster.py:880: FutureWarning: Series.nonzero() is deprecated and will be removed in a future version.Use Series.to_numpy().nonzero() instead\n",
      "  min_dt = dt.iloc[dt.nonzero()[0]].min()\n",
      "INFO:fbprophet:Disabling yearly seasonality. Run prophet with yearly_seasonality=True to override this.\n",
      "/home/igor/anaconda3/envs/proph/lib/python3.7/site-packages/pandas/core/generic.py:5096: SettingWithCopyWarning: \n",
      "A value is trying to be set on a copy of a slice from a DataFrame.\n",
      "Try using .loc[row_indexer,col_indexer] = value instead\n",
      "\n",
      "See the caveats in the documentation: http://pandas.pydata.org/pandas-docs/stable/indexing.html#indexing-view-versus-copy\n",
      "  self[name] = value\n",
      "/home/igor/anaconda3/envs/proph/lib/python3.7/site-packages/fbprophet/forecaster.py:880: FutureWarning: Series.nonzero() is deprecated and will be removed in a future version.Use Series.to_numpy().nonzero() instead\n",
      "  min_dt = dt.iloc[dt.nonzero()[0]].min()\n",
      "INFO:fbprophet:Disabling yearly seasonality. Run prophet with yearly_seasonality=True to override this.\n",
      "/home/igor/anaconda3/envs/proph/lib/python3.7/site-packages/pandas/core/generic.py:5096: SettingWithCopyWarning: \n",
      "A value is trying to be set on a copy of a slice from a DataFrame.\n",
      "Try using .loc[row_indexer,col_indexer] = value instead\n",
      "\n",
      "See the caveats in the documentation: http://pandas.pydata.org/pandas-docs/stable/indexing.html#indexing-view-versus-copy\n",
      "  self[name] = value\n",
      "/home/igor/anaconda3/envs/proph/lib/python3.7/site-packages/fbprophet/forecaster.py:880: FutureWarning: Series.nonzero() is deprecated and will be removed in a future version.Use Series.to_numpy().nonzero() instead\n",
      "  min_dt = dt.iloc[dt.nonzero()[0]].min()\n",
      "INFO:fbprophet:Disabling yearly seasonality. Run prophet with yearly_seasonality=True to override this.\n",
      "/home/igor/anaconda3/envs/proph/lib/python3.7/site-packages/pandas/core/generic.py:5096: SettingWithCopyWarning: \n",
      "A value is trying to be set on a copy of a slice from a DataFrame.\n",
      "Try using .loc[row_indexer,col_indexer] = value instead\n",
      "\n",
      "See the caveats in the documentation: http://pandas.pydata.org/pandas-docs/stable/indexing.html#indexing-view-versus-copy\n",
      "  self[name] = value\n",
      "/home/igor/anaconda3/envs/proph/lib/python3.7/site-packages/fbprophet/forecaster.py:880: FutureWarning: Series.nonzero() is deprecated and will be removed in a future version.Use Series.to_numpy().nonzero() instead\n",
      "  min_dt = dt.iloc[dt.nonzero()[0]].min()\n",
      "INFO:fbprophet:Disabling yearly seasonality. Run prophet with yearly_seasonality=True to override this.\n",
      "/home/igor/anaconda3/envs/proph/lib/python3.7/site-packages/pandas/core/generic.py:5096: SettingWithCopyWarning: \n",
      "A value is trying to be set on a copy of a slice from a DataFrame.\n",
      "Try using .loc[row_indexer,col_indexer] = value instead\n",
      "\n",
      "See the caveats in the documentation: http://pandas.pydata.org/pandas-docs/stable/indexing.html#indexing-view-versus-copy\n",
      "  self[name] = value\n",
      "/home/igor/anaconda3/envs/proph/lib/python3.7/site-packages/fbprophet/forecaster.py:880: FutureWarning: Series.nonzero() is deprecated and will be removed in a future version.Use Series.to_numpy().nonzero() instead\n",
      "  min_dt = dt.iloc[dt.nonzero()[0]].min()\n",
      "INFO:fbprophet:Disabling yearly seasonality. Run prophet with yearly_seasonality=True to override this.\n",
      "/home/igor/anaconda3/envs/proph/lib/python3.7/site-packages/pandas/core/generic.py:5096: SettingWithCopyWarning: \n",
      "A value is trying to be set on a copy of a slice from a DataFrame.\n",
      "Try using .loc[row_indexer,col_indexer] = value instead\n",
      "\n",
      "See the caveats in the documentation: http://pandas.pydata.org/pandas-docs/stable/indexing.html#indexing-view-versus-copy\n",
      "  self[name] = value\n",
      "/home/igor/anaconda3/envs/proph/lib/python3.7/site-packages/fbprophet/forecaster.py:880: FutureWarning: Series.nonzero() is deprecated and will be removed in a future version.Use Series.to_numpy().nonzero() instead\n",
      "  min_dt = dt.iloc[dt.nonzero()[0]].min()\n",
      "INFO:fbprophet:Disabling yearly seasonality. Run prophet with yearly_seasonality=True to override this.\n",
      "/home/igor/anaconda3/envs/proph/lib/python3.7/site-packages/pandas/core/generic.py:5096: SettingWithCopyWarning: \n",
      "A value is trying to be set on a copy of a slice from a DataFrame.\n",
      "Try using .loc[row_indexer,col_indexer] = value instead\n",
      "\n",
      "See the caveats in the documentation: http://pandas.pydata.org/pandas-docs/stable/indexing.html#indexing-view-versus-copy\n",
      "  self[name] = value\n",
      "/home/igor/anaconda3/envs/proph/lib/python3.7/site-packages/fbprophet/forecaster.py:880: FutureWarning: Series.nonzero() is deprecated and will be removed in a future version.Use Series.to_numpy().nonzero() instead\n",
      "  min_dt = dt.iloc[dt.nonzero()[0]].min()\n",
      "INFO:fbprophet:Disabling yearly seasonality. Run prophet with yearly_seasonality=True to override this.\n",
      "/home/igor/anaconda3/envs/proph/lib/python3.7/site-packages/pandas/core/generic.py:5096: SettingWithCopyWarning: \n",
      "A value is trying to be set on a copy of a slice from a DataFrame.\n",
      "Try using .loc[row_indexer,col_indexer] = value instead\n",
      "\n",
      "See the caveats in the documentation: http://pandas.pydata.org/pandas-docs/stable/indexing.html#indexing-view-versus-copy\n",
      "  self[name] = value\n",
      "/home/igor/anaconda3/envs/proph/lib/python3.7/site-packages/fbprophet/forecaster.py:880: FutureWarning: Series.nonzero() is deprecated and will be removed in a future version.Use Series.to_numpy().nonzero() instead\n",
      "  min_dt = dt.iloc[dt.nonzero()[0]].min()\n",
      "INFO:fbprophet:Disabling yearly seasonality. Run prophet with yearly_seasonality=True to override this.\n",
      "/home/igor/anaconda3/envs/proph/lib/python3.7/site-packages/pandas/core/generic.py:5096: SettingWithCopyWarning: \n",
      "A value is trying to be set on a copy of a slice from a DataFrame.\n",
      "Try using .loc[row_indexer,col_indexer] = value instead\n",
      "\n",
      "See the caveats in the documentation: http://pandas.pydata.org/pandas-docs/stable/indexing.html#indexing-view-versus-copy\n",
      "  self[name] = value\n",
      "/home/igor/anaconda3/envs/proph/lib/python3.7/site-packages/fbprophet/forecaster.py:880: FutureWarning: Series.nonzero() is deprecated and will be removed in a future version.Use Series.to_numpy().nonzero() instead\n",
      "  min_dt = dt.iloc[dt.nonzero()[0]].min()\n",
      "INFO:fbprophet:Disabling yearly seasonality. Run prophet with yearly_seasonality=True to override this.\n",
      "/home/igor/anaconda3/envs/proph/lib/python3.7/site-packages/pandas/core/generic.py:5096: SettingWithCopyWarning: \n",
      "A value is trying to be set on a copy of a slice from a DataFrame.\n",
      "Try using .loc[row_indexer,col_indexer] = value instead\n",
      "\n",
      "See the caveats in the documentation: http://pandas.pydata.org/pandas-docs/stable/indexing.html#indexing-view-versus-copy\n",
      "  self[name] = value\n",
      "/home/igor/anaconda3/envs/proph/lib/python3.7/site-packages/fbprophet/forecaster.py:880: FutureWarning: Series.nonzero() is deprecated and will be removed in a future version.Use Series.to_numpy().nonzero() instead\n",
      "  min_dt = dt.iloc[dt.nonzero()[0]].min()\n",
      "INFO:fbprophet:Disabling yearly seasonality. Run prophet with yearly_seasonality=True to override this.\n",
      "/home/igor/anaconda3/envs/proph/lib/python3.7/site-packages/pandas/core/generic.py:5096: SettingWithCopyWarning: \n",
      "A value is trying to be set on a copy of a slice from a DataFrame.\n",
      "Try using .loc[row_indexer,col_indexer] = value instead\n",
      "\n",
      "See the caveats in the documentation: http://pandas.pydata.org/pandas-docs/stable/indexing.html#indexing-view-versus-copy\n",
      "  self[name] = value\n",
      "/home/igor/anaconda3/envs/proph/lib/python3.7/site-packages/fbprophet/forecaster.py:880: FutureWarning: Series.nonzero() is deprecated and will be removed in a future version.Use Series.to_numpy().nonzero() instead\n",
      "  min_dt = dt.iloc[dt.nonzero()[0]].min()\n",
      "INFO:fbprophet:Disabling yearly seasonality. Run prophet with yearly_seasonality=True to override this.\n"
     ]
    },
    {
     "name": "stderr",
     "output_type": "stream",
     "text": [
      "/home/igor/anaconda3/envs/proph/lib/python3.7/site-packages/pandas/core/generic.py:5096: SettingWithCopyWarning: \n",
      "A value is trying to be set on a copy of a slice from a DataFrame.\n",
      "Try using .loc[row_indexer,col_indexer] = value instead\n",
      "\n",
      "See the caveats in the documentation: http://pandas.pydata.org/pandas-docs/stable/indexing.html#indexing-view-versus-copy\n",
      "  self[name] = value\n",
      "/home/igor/anaconda3/envs/proph/lib/python3.7/site-packages/fbprophet/forecaster.py:880: FutureWarning: Series.nonzero() is deprecated and will be removed in a future version.Use Series.to_numpy().nonzero() instead\n",
      "  min_dt = dt.iloc[dt.nonzero()[0]].min()\n",
      "INFO:fbprophet:Disabling yearly seasonality. Run prophet with yearly_seasonality=True to override this.\n",
      "/home/igor/anaconda3/envs/proph/lib/python3.7/site-packages/pandas/core/generic.py:5096: SettingWithCopyWarning: \n",
      "A value is trying to be set on a copy of a slice from a DataFrame.\n",
      "Try using .loc[row_indexer,col_indexer] = value instead\n",
      "\n",
      "See the caveats in the documentation: http://pandas.pydata.org/pandas-docs/stable/indexing.html#indexing-view-versus-copy\n",
      "  self[name] = value\n",
      "/home/igor/anaconda3/envs/proph/lib/python3.7/site-packages/fbprophet/forecaster.py:880: FutureWarning: Series.nonzero() is deprecated and will be removed in a future version.Use Series.to_numpy().nonzero() instead\n",
      "  min_dt = dt.iloc[dt.nonzero()[0]].min()\n",
      "INFO:fbprophet:Disabling yearly seasonality. Run prophet with yearly_seasonality=True to override this.\n",
      "/home/igor/anaconda3/envs/proph/lib/python3.7/site-packages/pandas/core/generic.py:5096: SettingWithCopyWarning: \n",
      "A value is trying to be set on a copy of a slice from a DataFrame.\n",
      "Try using .loc[row_indexer,col_indexer] = value instead\n",
      "\n",
      "See the caveats in the documentation: http://pandas.pydata.org/pandas-docs/stable/indexing.html#indexing-view-versus-copy\n",
      "  self[name] = value\n",
      "/home/igor/anaconda3/envs/proph/lib/python3.7/site-packages/fbprophet/forecaster.py:880: FutureWarning: Series.nonzero() is deprecated and will be removed in a future version.Use Series.to_numpy().nonzero() instead\n",
      "  min_dt = dt.iloc[dt.nonzero()[0]].min()\n",
      "INFO:fbprophet:Disabling yearly seasonality. Run prophet with yearly_seasonality=True to override this.\n",
      "/home/igor/anaconda3/envs/proph/lib/python3.7/site-packages/pandas/core/generic.py:5096: SettingWithCopyWarning: \n",
      "A value is trying to be set on a copy of a slice from a DataFrame.\n",
      "Try using .loc[row_indexer,col_indexer] = value instead\n",
      "\n",
      "See the caveats in the documentation: http://pandas.pydata.org/pandas-docs/stable/indexing.html#indexing-view-versus-copy\n",
      "  self[name] = value\n",
      "/home/igor/anaconda3/envs/proph/lib/python3.7/site-packages/fbprophet/forecaster.py:880: FutureWarning: Series.nonzero() is deprecated and will be removed in a future version.Use Series.to_numpy().nonzero() instead\n",
      "  min_dt = dt.iloc[dt.nonzero()[0]].min()\n",
      "INFO:fbprophet:Disabling yearly seasonality. Run prophet with yearly_seasonality=True to override this.\n",
      "/home/igor/anaconda3/envs/proph/lib/python3.7/site-packages/pandas/core/generic.py:5096: SettingWithCopyWarning: \n",
      "A value is trying to be set on a copy of a slice from a DataFrame.\n",
      "Try using .loc[row_indexer,col_indexer] = value instead\n",
      "\n",
      "See the caveats in the documentation: http://pandas.pydata.org/pandas-docs/stable/indexing.html#indexing-view-versus-copy\n",
      "  self[name] = value\n",
      "/home/igor/anaconda3/envs/proph/lib/python3.7/site-packages/fbprophet/forecaster.py:880: FutureWarning: Series.nonzero() is deprecated and will be removed in a future version.Use Series.to_numpy().nonzero() instead\n",
      "  min_dt = dt.iloc[dt.nonzero()[0]].min()\n",
      "INFO:fbprophet:Disabling yearly seasonality. Run prophet with yearly_seasonality=True to override this.\n",
      "/home/igor/anaconda3/envs/proph/lib/python3.7/site-packages/pandas/core/generic.py:5096: SettingWithCopyWarning: \n",
      "A value is trying to be set on a copy of a slice from a DataFrame.\n",
      "Try using .loc[row_indexer,col_indexer] = value instead\n",
      "\n",
      "See the caveats in the documentation: http://pandas.pydata.org/pandas-docs/stable/indexing.html#indexing-view-versus-copy\n",
      "  self[name] = value\n",
      "/home/igor/anaconda3/envs/proph/lib/python3.7/site-packages/fbprophet/forecaster.py:880: FutureWarning: Series.nonzero() is deprecated and will be removed in a future version.Use Series.to_numpy().nonzero() instead\n",
      "  min_dt = dt.iloc[dt.nonzero()[0]].min()\n",
      "INFO:fbprophet:Disabling yearly seasonality. Run prophet with yearly_seasonality=True to override this.\n",
      "/home/igor/anaconda3/envs/proph/lib/python3.7/site-packages/pandas/core/generic.py:5096: SettingWithCopyWarning: \n",
      "A value is trying to be set on a copy of a slice from a DataFrame.\n",
      "Try using .loc[row_indexer,col_indexer] = value instead\n",
      "\n",
      "See the caveats in the documentation: http://pandas.pydata.org/pandas-docs/stable/indexing.html#indexing-view-versus-copy\n",
      "  self[name] = value\n",
      "/home/igor/anaconda3/envs/proph/lib/python3.7/site-packages/fbprophet/forecaster.py:880: FutureWarning: Series.nonzero() is deprecated and will be removed in a future version.Use Series.to_numpy().nonzero() instead\n",
      "  min_dt = dt.iloc[dt.nonzero()[0]].min()\n",
      "INFO:fbprophet:Disabling yearly seasonality. Run prophet with yearly_seasonality=True to override this.\n",
      "/home/igor/anaconda3/envs/proph/lib/python3.7/site-packages/pandas/core/generic.py:5096: SettingWithCopyWarning: \n",
      "A value is trying to be set on a copy of a slice from a DataFrame.\n",
      "Try using .loc[row_indexer,col_indexer] = value instead\n",
      "\n",
      "See the caveats in the documentation: http://pandas.pydata.org/pandas-docs/stable/indexing.html#indexing-view-versus-copy\n",
      "  self[name] = value\n",
      "/home/igor/anaconda3/envs/proph/lib/python3.7/site-packages/fbprophet/forecaster.py:880: FutureWarning: Series.nonzero() is deprecated and will be removed in a future version.Use Series.to_numpy().nonzero() instead\n",
      "  min_dt = dt.iloc[dt.nonzero()[0]].min()\n",
      "INFO:fbprophet:Disabling yearly seasonality. Run prophet with yearly_seasonality=True to override this.\n",
      "/home/igor/anaconda3/envs/proph/lib/python3.7/site-packages/pandas/core/generic.py:5096: SettingWithCopyWarning: \n",
      "A value is trying to be set on a copy of a slice from a DataFrame.\n",
      "Try using .loc[row_indexer,col_indexer] = value instead\n",
      "\n",
      "See the caveats in the documentation: http://pandas.pydata.org/pandas-docs/stable/indexing.html#indexing-view-versus-copy\n",
      "  self[name] = value\n",
      "/home/igor/anaconda3/envs/proph/lib/python3.7/site-packages/fbprophet/forecaster.py:880: FutureWarning: Series.nonzero() is deprecated and will be removed in a future version.Use Series.to_numpy().nonzero() instead\n",
      "  min_dt = dt.iloc[dt.nonzero()[0]].min()\n",
      "INFO:fbprophet:Disabling yearly seasonality. Run prophet with yearly_seasonality=True to override this.\n",
      "/home/igor/anaconda3/envs/proph/lib/python3.7/site-packages/pandas/core/generic.py:5096: SettingWithCopyWarning: \n",
      "A value is trying to be set on a copy of a slice from a DataFrame.\n",
      "Try using .loc[row_indexer,col_indexer] = value instead\n",
      "\n",
      "See the caveats in the documentation: http://pandas.pydata.org/pandas-docs/stable/indexing.html#indexing-view-versus-copy\n",
      "  self[name] = value\n",
      "/home/igor/anaconda3/envs/proph/lib/python3.7/site-packages/fbprophet/forecaster.py:880: FutureWarning: Series.nonzero() is deprecated and will be removed in a future version.Use Series.to_numpy().nonzero() instead\n",
      "  min_dt = dt.iloc[dt.nonzero()[0]].min()\n",
      "INFO:fbprophet:Disabling yearly seasonality. Run prophet with yearly_seasonality=True to override this.\n",
      "/home/igor/anaconda3/envs/proph/lib/python3.7/site-packages/pandas/core/generic.py:5096: SettingWithCopyWarning: \n",
      "A value is trying to be set on a copy of a slice from a DataFrame.\n",
      "Try using .loc[row_indexer,col_indexer] = value instead\n",
      "\n",
      "See the caveats in the documentation: http://pandas.pydata.org/pandas-docs/stable/indexing.html#indexing-view-versus-copy\n",
      "  self[name] = value\n",
      "/home/igor/anaconda3/envs/proph/lib/python3.7/site-packages/fbprophet/forecaster.py:880: FutureWarning: Series.nonzero() is deprecated and will be removed in a future version.Use Series.to_numpy().nonzero() instead\n",
      "  min_dt = dt.iloc[dt.nonzero()[0]].min()\n",
      "INFO:fbprophet:Disabling yearly seasonality. Run prophet with yearly_seasonality=True to override this.\n",
      "/home/igor/anaconda3/envs/proph/lib/python3.7/site-packages/pandas/core/generic.py:5096: SettingWithCopyWarning: \n",
      "A value is trying to be set on a copy of a slice from a DataFrame.\n",
      "Try using .loc[row_indexer,col_indexer] = value instead\n",
      "\n",
      "See the caveats in the documentation: http://pandas.pydata.org/pandas-docs/stable/indexing.html#indexing-view-versus-copy\n",
      "  self[name] = value\n",
      "/home/igor/anaconda3/envs/proph/lib/python3.7/site-packages/fbprophet/forecaster.py:880: FutureWarning: Series.nonzero() is deprecated and will be removed in a future version.Use Series.to_numpy().nonzero() instead\n",
      "  min_dt = dt.iloc[dt.nonzero()[0]].min()\n",
      "INFO:fbprophet:Disabling yearly seasonality. Run prophet with yearly_seasonality=True to override this.\n"
     ]
    },
    {
     "name": "stderr",
     "output_type": "stream",
     "text": [
      "/home/igor/anaconda3/envs/proph/lib/python3.7/site-packages/pandas/core/generic.py:5096: SettingWithCopyWarning: \n",
      "A value is trying to be set on a copy of a slice from a DataFrame.\n",
      "Try using .loc[row_indexer,col_indexer] = value instead\n",
      "\n",
      "See the caveats in the documentation: http://pandas.pydata.org/pandas-docs/stable/indexing.html#indexing-view-versus-copy\n",
      "  self[name] = value\n",
      "/home/igor/anaconda3/envs/proph/lib/python3.7/site-packages/fbprophet/forecaster.py:880: FutureWarning: Series.nonzero() is deprecated and will be removed in a future version.Use Series.to_numpy().nonzero() instead\n",
      "  min_dt = dt.iloc[dt.nonzero()[0]].min()\n",
      "INFO:fbprophet:Disabling yearly seasonality. Run prophet with yearly_seasonality=True to override this.\n",
      "ERROR:ib_insync.wrapper:Error 162, reqId 28: Historical Market Data Service error message:HMDS query returned no data: SJYM9@GLOBEX Trades, contract: Future(symbol='SJY', lastTradeDateOrContractMonth='201906', exchange='GLOBEX')\n",
      "INFO:ib_insync.wrapper:updatePortfolio: PortfolioItem(contract=Stock(conId=4472, symbol='APA', right='0', primaryExchange='NYSE', currency='USD', localSymbol='APA', tradingClass='APA'), position=3100.0, marketPrice=33.0099983, marketValue=102330.99, averageCost=32.835, unrealizedPNL=542.49, realizedPNL=0.0, account='DU1131437')\n",
      "INFO:ib_insync.wrapper:updatePortfolio: PortfolioItem(contract=Stock(conId=4482, symbol='APC', right='0', primaryExchange='NYSE', currency='USD', localSymbol='APC', tradingClass='APC'), position=-1400.0, marketPrice=72.80000305, marketValue=-101920.0, averageCost=72.63337735, unrealizedPNL=-233.28, realizedPNL=0.0, account='DU1131437')\n",
      "INFO:ib_insync.wrapper:updatePortfolio: PortfolioItem(contract=Stock(conId=6890, symbol='EOG', right='0', primaryExchange='NYSE', currency='USD', localSymbol='EOG', tradingClass='EOG'), position=100.0, marketPrice=98.08000185, marketValue=9808.0, averageCost=97.5, unrealizedPNL=58.0, realizedPNL=0.0, account='DU1131437')\n",
      "INFO:ib_insync.wrapper:updatePortfolio: PortfolioItem(contract=Stock(conId=9720, symbol='MMM', right='0', primaryExchange='NYSE', currency='USD', localSymbol='MMM', tradingClass='MMM'), position=600.0, marketPrice=191.6000061, marketValue=114960.0, averageCost=190.83333335, unrealizedPNL=460.0, realizedPNL=0.0, account='DU1131437')\n",
      "INFO:ib_insync.wrapper:updatePortfolio: PortfolioItem(contract=Stock(conId=265655, symbol='ABMD', right='0', primaryExchange='NASDAQ', currency='USD', localSymbol='ABMD', tradingClass='NMS'), position=-400.0, marketPrice=274.91000365, marketValue=-109964.0, averageCost=274.6941945, unrealizedPNL=-86.32, realizedPNL=0.0, account='DU1131437')\n",
      "INFO:ib_insync.wrapper:updatePortfolio: PortfolioItem(contract=Stock(conId=267661, symbol='CINF', right='0', primaryExchange='NASDAQ', currency='USD', localSymbol='CINF', tradingClass='NMS'), position=-1100.0, marketPrice=94.19999695, marketValue=-103620.0, averageCost=93.9892989, unrealizedPNL=-231.77, realizedPNL=0.0, account='DU1131437')\n",
      "INFO:ib_insync.wrapper:updatePortfolio: PortfolioItem(contract=Stock(conId=270639, symbol='INTC', right='0', primaryExchange='NASDAQ', currency='USD', localSymbol='INTC', tradingClass='NMS'), position=2000.0, marketPrice=52.52000045, marketValue=105040.0, averageCost=51.735, unrealizedPNL=1570.0, realizedPNL=0.0, account='DU1131437')\n",
      "INFO:ib_insync.wrapper:updatePortfolio: PortfolioItem(contract=Stock(conId=273544, symbol='QCOM', right='0', primaryExchange='NASDAQ', currency='USD', localSymbol='QCOM', tradingClass='NMS'), position=-1200.0, marketPrice=86.87000275, marketValue=-104244.0, averageCost=86.223096, unrealizedPNL=-776.29, realizedPNL=0.0, account='DU1131437')\n",
      "INFO:ib_insync.wrapper:updatePortfolio: PortfolioItem(contract=Stock(conId=276222, symbol='XLNX', right='0', primaryExchange='NASDAQ', currency='USD', localSymbol='XLNX', tradingClass='NMS'), position=900.0, marketPrice=119.0400009, marketValue=107136.0, averageCost=117.785, unrealizedPNL=1129.5, realizedPNL=0.0, account='DU1131437')\n",
      "INFO:ib_insync.wrapper:updatePortfolio: PortfolioItem(contract=Stock(conId=4815747, symbol='NVDA', right='0', primaryExchange='NASDAQ', currency='USD', localSymbol='NVDA', tradingClass='NMS'), position=600.0, marketPrice=177.8999939, marketValue=106740.0, averageCost=176.2562, unrealizedPNL=986.28, realizedPNL=0.0, account='DU1131437')\n",
      "INFO:ib_insync.wrapper:updatePortfolio: PortfolioItem(contract=Stock(conId=5100583, symbol='FDX', right='0', primaryExchange='NYSE', currency='USD', localSymbol='FDX', tradingClass='FDX'), position=600.0, marketPrice=184.0399933, marketValue=110424.0, averageCost=183.095, unrealizedPNL=567.0, realizedPNL=0.0, account='DU1131437')\n",
      "INFO:ib_insync.wrapper:updatePortfolio: PortfolioItem(contract=Stock(conId=6231002, symbol='UPS', right='0', primaryExchange='NYSE', currency='USD', localSymbol='UPS', tradingClass='UPS'), position=1000.0, marketPrice=103.91000365, marketValue=103910.0, averageCost=103.285, unrealizedPNL=625.0, realizedPNL=0.0, account='DU1131437')\n",
      "INFO:ib_insync.wrapper:updatePortfolio: PortfolioItem(contract=Forex('USDCHF', conId=12087820, right='0', primaryExchange='IDEALPRO', localSymbol='USD.CHF', tradingClass='USD.CHF'), position=-25000.0, marketPrice=1.01989495, marketValue=-25497.37, averageCost=1.01618, unrealizedPNL=-92.87, realizedPNL=0.0, account='DU1131437')\n",
      "INFO:ib_insync.wrapper:updatePortfolio: PortfolioItem(contract=Stock(conId=26734397, symbol='BIIB', right='0', primaryExchange='NASDAQ', currency='USD', localSymbol='BIIB', tradingClass='NMS'), position=-500.0, marketPrice=230.0, marketValue=-115000.0, averageCost=229.6761264, unrealizedPNL=-161.94, realizedPNL=0.0, account='DU1131437')\n",
      "INFO:ib_insync.wrapper:updatePortfolio: PortfolioItem(contract=Stock(conId=76915240, symbol='STX', right='0', primaryExchange='NASDAQ', currency='USD', localSymbol='STX', tradingClass='NMS'), position=2200.0, marketPrice=44.9830017, marketValue=98962.6, averageCost=44.84, unrealizedPNL=314.6, realizedPNL=0.0, account='DU1131437')\n",
      "INFO:ib_insync.wrapper:updatePortfolio: PortfolioItem(contract=Stock(conId=173962302, symbol='ANTM', right='0', primaryExchange='NYSE', currency='USD', localSymbol='ANTM', tradingClass='ANTM'), position=-400.0, marketPrice=266.4299927, marketValue=-106572.0, averageCost=265.2793895, unrealizedPNL=-460.24, realizedPNL=0.0, account='DU1131437')\n",
      "INFO:ib_insync.wrapper:updatePortfolio: PortfolioItem(contract=Stock(conId=196986496, symbol='MNST', right='0', primaryExchange='NASDAQ', currency='USD', localSymbol='MNST', tradingClass='NMS'), position=-1900.0, marketPrice=59.65999985, marketValue=-113354.0, averageCost=59.0436587, unrealizedPNL=-1171.05, realizedPNL=0.0, account='DU1131437')\n"
     ]
    }
   ],
   "source": [
    "for i in symbols:\n",
    "    try:\n",
    "        preddict[i] = doprof(Future(i, '201906', 'GLOBEX'), freq='15 min', freq2='15M')\n",
    "    except:\n",
    "        pass"
   ]
  },
  {
   "cell_type": "code",
   "execution_count": 10,
   "metadata": {},
   "outputs": [
    {
     "data": {
      "text/plain": [
       "{'ACD': 0.006851069048307817,\n",
       " 'AJY': -0.0018368601518279348,\n",
       " 'AUD': 0.006760035582851653,\n",
       " 'CAD': -0.00021832149707973203,\n",
       " 'CHF': 0.007668083599891044,\n",
       " 'CJY': 0.0016791603881989303,\n",
       " 'E7': 0.003966130610284835,\n",
       " 'EAD': -0.0026286365064972506,\n",
       " 'ECD': -0.0025675927075762828,\n",
       " 'EUR': 0.004021715586684099,\n",
       " 'GBP': -0.002093317684911389,\n",
       " 'J7': -0.001709194085134591,\n",
       " 'JPY': -0.0023222901146944253,\n",
       " 'M6A': 0.0073978046802538056,\n",
       " 'M6B': -0.0020497916469970345,\n",
       " 'M6E': 0.00471237931664123,\n",
       " 'MCD': 0.0014141724438127001,\n",
       " 'MJY': -0.002304414812293487,\n",
       " 'MSF': 0.009978120815108484,\n",
       " 'NZD': 0.000491939592197177,\n",
       " 'PJY': -0.014740155199382876,\n",
       " 'PSF': -0.0006513835355382303,\n",
       " 'RF': -0.0032012806807561467,\n",
       " 'RP': 0.004578085057799469,\n",
       " 'RY': -0.0017401136464725298}"
      ]
     },
     "execution_count": 10,
     "metadata": {},
     "output_type": "execute_result"
    },
    {
     "name": "stderr",
     "output_type": "stream",
     "text": [
      "INFO:ib_insync.wrapper:updatePortfolio: PortfolioItem(contract=Stock(conId=4482, symbol='APC', right='0', primaryExchange='NYSE', currency='USD', localSymbol='APC', tradingClass='APC'), position=-1400.0, marketPrice=72.80000305, marketValue=-101920.0, averageCost=72.63337735, unrealizedPNL=-233.28, realizedPNL=0.0, account='DU1131437')\n",
      "INFO:ib_insync.wrapper:updatePortfolio: PortfolioItem(contract=Stock(conId=6890, symbol='EOG', right='0', primaryExchange='NYSE', currency='USD', localSymbol='EOG', tradingClass='EOG'), position=100.0, marketPrice=98.08000185, marketValue=9808.0, averageCost=97.5, unrealizedPNL=58.0, realizedPNL=0.0, account='DU1131437')\n",
      "INFO:ib_insync.wrapper:updatePortfolio: PortfolioItem(contract=Stock(conId=9720, symbol='MMM', right='0', primaryExchange='NYSE', currency='USD', localSymbol='MMM', tradingClass='MMM'), position=600.0, marketPrice=191.6000061, marketValue=114960.0, averageCost=190.83333335, unrealizedPNL=460.0, realizedPNL=0.0, account='DU1131437')\n",
      "INFO:ib_insync.wrapper:updatePortfolio: PortfolioItem(contract=Stock(conId=265655, symbol='ABMD', right='0', primaryExchange='NASDAQ', currency='USD', localSymbol='ABMD', tradingClass='NMS'), position=-400.0, marketPrice=274.91000365, marketValue=-109964.0, averageCost=274.6941945, unrealizedPNL=-86.32, realizedPNL=0.0, account='DU1131437')\n",
      "INFO:ib_insync.wrapper:updatePortfolio: PortfolioItem(contract=Stock(conId=267661, symbol='CINF', right='0', primaryExchange='NASDAQ', currency='USD', localSymbol='CINF', tradingClass='NMS'), position=-1100.0, marketPrice=94.19999695, marketValue=-103620.0, averageCost=93.9892989, unrealizedPNL=-231.77, realizedPNL=0.0, account='DU1131437')\n",
      "INFO:ib_insync.wrapper:updatePortfolio: PortfolioItem(contract=Stock(conId=276222, symbol='XLNX', right='0', primaryExchange='NASDAQ', currency='USD', localSymbol='XLNX', tradingClass='NMS'), position=900.0, marketPrice=119.0400009, marketValue=107136.0, averageCost=117.785, unrealizedPNL=1129.5, realizedPNL=0.0, account='DU1131437')\n",
      "INFO:ib_insync.wrapper:updatePortfolio: PortfolioItem(contract=Stock(conId=4815747, symbol='NVDA', right='0', primaryExchange='NASDAQ', currency='USD', localSymbol='NVDA', tradingClass='NMS'), position=600.0, marketPrice=177.8999939, marketValue=106740.0, averageCost=176.2562, unrealizedPNL=986.28, realizedPNL=0.0, account='DU1131437')\n",
      "INFO:ib_insync.wrapper:updatePortfolio: PortfolioItem(contract=Stock(conId=5100583, symbol='FDX', right='0', primaryExchange='NYSE', currency='USD', localSymbol='FDX', tradingClass='FDX'), position=600.0, marketPrice=184.0399933, marketValue=110424.0, averageCost=183.095, unrealizedPNL=567.0, realizedPNL=0.0, account='DU1131437')\n",
      "INFO:ib_insync.wrapper:updatePortfolio: PortfolioItem(contract=Stock(conId=6231002, symbol='UPS', right='0', primaryExchange='NYSE', currency='USD', localSymbol='UPS', tradingClass='UPS'), position=1000.0, marketPrice=103.91000365, marketValue=103910.0, averageCost=103.285, unrealizedPNL=625.0, realizedPNL=0.0, account='DU1131437')\n",
      "INFO:ib_insync.wrapper:updatePortfolio: PortfolioItem(contract=Forex('USDCHF', conId=12087820, right='0', primaryExchange='IDEALPRO', localSymbol='USD.CHF', tradingClass='USD.CHF'), position=-25000.0, marketPrice=1.01983, marketValue=-25495.75, averageCost=1.01618, unrealizedPNL=-91.25, realizedPNL=0.0, account='DU1131437')\n",
      "INFO:ib_insync.wrapper:updatePortfolio: PortfolioItem(contract=Stock(conId=26734397, symbol='BIIB', right='0', primaryExchange='NASDAQ', currency='USD', localSymbol='BIIB', tradingClass='NMS'), position=-500.0, marketPrice=230.0, marketValue=-115000.0, averageCost=229.6761264, unrealizedPNL=-161.94, realizedPNL=0.0, account='DU1131437')\n",
      "INFO:ib_insync.wrapper:updatePortfolio: PortfolioItem(contract=Stock(conId=173962302, symbol='ANTM', right='0', primaryExchange='NYSE', currency='USD', localSymbol='ANTM', tradingClass='ANTM'), position=-400.0, marketPrice=266.4299927, marketValue=-106572.0, averageCost=265.2793895, unrealizedPNL=-460.24, realizedPNL=0.0, account='DU1131437')\n"
     ]
    }
   ],
   "source": [
    "preddict"
   ]
  },
  {
   "cell_type": "code",
   "execution_count": 14,
   "metadata": {},
   "outputs": [
    {
     "name": "stderr",
     "output_type": "stream",
     "text": [
      "/home/igor/anaconda3/envs/proph/lib/python3.7/site-packages/pandas/core/generic.py:5096: SettingWithCopyWarning: \n",
      "A value is trying to be set on a copy of a slice from a DataFrame.\n",
      "Try using .loc[row_indexer,col_indexer] = value instead\n",
      "\n",
      "See the caveats in the documentation: http://pandas.pydata.org/pandas-docs/stable/indexing.html#indexing-view-versus-copy\n",
      "  self[name] = value\n",
      "/home/igor/anaconda3/envs/proph/lib/python3.7/site-packages/fbprophet/forecaster.py:880: FutureWarning: Series.nonzero() is deprecated and will be removed in a future version.Use Series.to_numpy().nonzero() instead\n",
      "  min_dt = dt.iloc[dt.nonzero()[0]].min()\n",
      "INFO:fbprophet:Disabling yearly seasonality. Run prophet with yearly_seasonality=True to override this.\n"
     ]
    },
    {
     "data": {
      "text/plain": [
       "-0.0068860562763015665"
      ]
     },
     "execution_count": 14,
     "metadata": {},
     "output_type": "execute_result"
    },
    {
     "name": "stderr",
     "output_type": "stream",
     "text": [
      "INFO:ib_insync.wrapper:updatePortfolio: PortfolioItem(contract=Stock(conId=9720, symbol='MMM', right='0', primaryExchange='NYSE', currency='USD', localSymbol='MMM', tradingClass='MMM'), position=600.0, marketPrice=191.6000061, marketValue=114960.0, averageCost=190.83333335, unrealizedPNL=460.0, realizedPNL=0.0, account='DU1131437')\n",
      "INFO:ib_insync.wrapper:updatePortfolio: PortfolioItem(contract=Stock(conId=265655, symbol='ABMD', right='0', primaryExchange='NASDAQ', currency='USD', localSymbol='ABMD', tradingClass='NMS'), position=-400.0, marketPrice=274.91000365, marketValue=-109964.0, averageCost=274.6941945, unrealizedPNL=-86.32, realizedPNL=0.0, account='DU1131437')\n",
      "INFO:ib_insync.wrapper:updatePortfolio: PortfolioItem(contract=Stock(conId=270639, symbol='INTC', right='0', primaryExchange='NASDAQ', currency='USD', localSymbol='INTC', tradingClass='NMS'), position=2000.0, marketPrice=52.52000045, marketValue=105040.0, averageCost=51.735, unrealizedPNL=1570.0, realizedPNL=0.0, account='DU1131437')\n",
      "INFO:ib_insync.wrapper:updatePortfolio: PortfolioItem(contract=Stock(conId=273544, symbol='QCOM', right='0', primaryExchange='NASDAQ', currency='USD', localSymbol='QCOM', tradingClass='NMS'), position=-1200.0, marketPrice=86.87000275, marketValue=-104244.0, averageCost=86.223096, unrealizedPNL=-776.29, realizedPNL=0.0, account='DU1131437')\n",
      "INFO:ib_insync.wrapper:updatePortfolio: PortfolioItem(contract=Stock(conId=276222, symbol='XLNX', right='0', primaryExchange='NASDAQ', currency='USD', localSymbol='XLNX', tradingClass='NMS'), position=900.0, marketPrice=119.0400009, marketValue=107136.0, averageCost=117.785, unrealizedPNL=1129.5, realizedPNL=0.0, account='DU1131437')\n",
      "INFO:ib_insync.wrapper:updatePortfolio: PortfolioItem(contract=Stock(conId=4815747, symbol='NVDA', right='0', primaryExchange='NASDAQ', currency='USD', localSymbol='NVDA', tradingClass='NMS'), position=600.0, marketPrice=177.8999939, marketValue=106740.0, averageCost=176.2562, unrealizedPNL=986.28, realizedPNL=0.0, account='DU1131437')\n",
      "INFO:ib_insync.wrapper:updatePortfolio: PortfolioItem(contract=Stock(conId=5100583, symbol='FDX', right='0', primaryExchange='NYSE', currency='USD', localSymbol='FDX', tradingClass='FDX'), position=600.0, marketPrice=184.0399933, marketValue=110424.0, averageCost=183.095, unrealizedPNL=567.0, realizedPNL=0.0, account='DU1131437')\n",
      "INFO:ib_insync.wrapper:updatePortfolio: PortfolioItem(contract=Forex('USDCHF', conId=12087820, right='0', primaryExchange='IDEALPRO', localSymbol='USD.CHF', tradingClass='USD.CHF'), position=-25000.0, marketPrice=1.01977005, marketValue=-25494.25, averageCost=1.01618, unrealizedPNL=-89.75, realizedPNL=0.0, account='DU1131437')\n",
      "INFO:ib_insync.wrapper:updatePortfolio: PortfolioItem(contract=Stock(conId=26734397, symbol='BIIB', right='0', primaryExchange='NASDAQ', currency='USD', localSymbol='BIIB', tradingClass='NMS'), position=-500.0, marketPrice=230.0, marketValue=-115000.0, averageCost=229.6761264, unrealizedPNL=-161.94, realizedPNL=0.0, account='DU1131437')\n",
      "INFO:ib_insync.wrapper:updatePortfolio: PortfolioItem(contract=Stock(conId=76915240, symbol='STX', right='0', primaryExchange='NASDAQ', currency='USD', localSymbol='STX', tradingClass='NMS'), position=2200.0, marketPrice=44.9830017, marketValue=98962.6, averageCost=44.84, unrealizedPNL=314.6, realizedPNL=0.0, account='DU1131437')\n",
      "INFO:ib_insync.wrapper:updatePortfolio: PortfolioItem(contract=Stock(conId=173962302, symbol='ANTM', right='0', primaryExchange='NYSE', currency='USD', localSymbol='ANTM', tradingClass='ANTM'), position=-400.0, marketPrice=266.4299927, marketValue=-106572.0, averageCost=265.2793895, unrealizedPNL=-460.24, realizedPNL=0.0, account='DU1131437')\n",
      "INFO:ib_insync.wrapper:updatePortfolio: PortfolioItem(contract=Stock(conId=196986496, symbol='MNST', right='0', primaryExchange='NASDAQ', currency='USD', localSymbol='MNST', tradingClass='NMS'), position=-1900.0, marketPrice=59.65999985, marketValue=-113354.0, averageCost=59.0436587, unrealizedPNL=-1171.05, realizedPNL=0.0, account='DU1131437')\n"
     ]
    }
   ],
   "source": [
    "doprof(Future('RY', '201906', 'GLOBEX'), freq='15 mins', freq2='900s')"
   ]
  },
  {
   "cell_type": "code",
   "execution_count": 15,
   "metadata": {},
   "outputs": [
    {
     "name": "stderr",
     "output_type": "stream",
     "text": [
      "ERROR:ib_insync.wrapper:Error 321, reqId 32: Error validating request:-'bP' : cause - Historical data bar size setting is invalid. Legal ones are: 1 secs, 5 secs, 10 secs, 15 secs, 30 secs, 1 min, 2 mins, 3 mins, 5 mins, 10 mins, 15 mins, 20 mins, 30 mins, 1 hour, 2 hours, 3 hours, 4 hours, 8 hours, 1 day, 1W, 1M, contract: Future(symbol='RY', lastTradeDateOrContractMonth='201906', exchange='GLOBEX')\n"
     ]
    },
    {
     "ename": "TypeError",
     "evalue": "'NoneType' object is not subscriptable",
     "output_type": "error",
     "traceback": [
      "\u001b[0;31m---------------------------------------------------------------------------\u001b[0m",
      "\u001b[0;31mTypeError\u001b[0m                                 Traceback (most recent call last)",
      "\u001b[0;32m<ipython-input-15-d917837f87a0>\u001b[0m in \u001b[0;36m<module>\u001b[0;34m\u001b[0m\n\u001b[0;32m----> 1\u001b[0;31m \u001b[0mdoprof\u001b[0m\u001b[0;34m(\u001b[0m\u001b[0mFuture\u001b[0m\u001b[0;34m(\u001b[0m\u001b[0;34m'RY'\u001b[0m\u001b[0;34m,\u001b[0m \u001b[0;34m'201906'\u001b[0m\u001b[0;34m,\u001b[0m \u001b[0;34m'GLOBEX'\u001b[0m\u001b[0;34m)\u001b[0m\u001b[0;34m,\u001b[0m \u001b[0mfreq\u001b[0m\u001b[0;34m=\u001b[0m\u001b[0;34m'15 min'\u001b[0m\u001b[0;34m,\u001b[0m \u001b[0mfreq2\u001b[0m\u001b[0;34m=\u001b[0m\u001b[0;34m'900s'\u001b[0m\u001b[0;34m)\u001b[0m\u001b[0;34m\u001b[0m\u001b[0;34m\u001b[0m\u001b[0m\n\u001b[0m",
      "\u001b[0;32m~/devel/prophesy/prostrat.py\u001b[0m in \u001b[0;36mdoprof\u001b[0;34m(contract, hist, freq, freq2, lookahead)\u001b[0m\n\u001b[1;32m     20\u001b[0m         formatDate=1)\n\u001b[1;32m     21\u001b[0m     \u001b[0mdf\u001b[0m \u001b[0;34m=\u001b[0m \u001b[0mutil\u001b[0m\u001b[0;34m.\u001b[0m\u001b[0mdf\u001b[0m\u001b[0;34m(\u001b[0m\u001b[0mbars\u001b[0m\u001b[0;34m)\u001b[0m\u001b[0;34m\u001b[0m\u001b[0;34m\u001b[0m\u001b[0m\n\u001b[0;32m---> 22\u001b[0;31m     \u001b[0mprodf\u001b[0m \u001b[0;34m=\u001b[0m \u001b[0mdf\u001b[0m\u001b[0;34m[\u001b[0m\u001b[0;34m[\u001b[0m\u001b[0;34m'date'\u001b[0m\u001b[0;34m,\u001b[0m \u001b[0;34m'average'\u001b[0m\u001b[0;34m]\u001b[0m\u001b[0;34m]\u001b[0m\u001b[0;34m\u001b[0m\u001b[0;34m\u001b[0m\u001b[0m\n\u001b[0m\u001b[1;32m     23\u001b[0m     \u001b[0mprodf\u001b[0m\u001b[0;34m.\u001b[0m\u001b[0mcolumns\u001b[0m \u001b[0;34m=\u001b[0m \u001b[0;34m[\u001b[0m\u001b[0;34m'ds'\u001b[0m\u001b[0;34m,\u001b[0m \u001b[0;34m'y'\u001b[0m\u001b[0;34m]\u001b[0m\u001b[0;34m\u001b[0m\u001b[0;34m\u001b[0m\u001b[0m\n\u001b[1;32m     24\u001b[0m     \u001b[0mprodf\u001b[0m\u001b[0;34m.\u001b[0m\u001b[0my\u001b[0m \u001b[0;34m=\u001b[0m \u001b[0mnp\u001b[0m\u001b[0;34m.\u001b[0m\u001b[0mlog\u001b[0m\u001b[0;34m(\u001b[0m\u001b[0mprodf\u001b[0m\u001b[0;34m.\u001b[0m\u001b[0my\u001b[0m\u001b[0;34m)\u001b[0m\u001b[0;34m\u001b[0m\u001b[0;34m\u001b[0m\u001b[0m\n",
      "\u001b[0;31mTypeError\u001b[0m: 'NoneType' object is not subscriptable"
     ]
    },
    {
     "name": "stderr",
     "output_type": "stream",
     "text": [
      "INFO:ib_insync.wrapper:updatePortfolio: PortfolioItem(contract=Stock(conId=4482, symbol='APC', right='0', primaryExchange='NYSE', currency='USD', localSymbol='APC', tradingClass='APC'), position=-1400.0, marketPrice=72.80000305, marketValue=-101920.0, averageCost=72.63337735, unrealizedPNL=-233.28, realizedPNL=0.0, account='DU1131437')\n",
      "INFO:ib_insync.wrapper:updatePortfolio: PortfolioItem(contract=Stock(conId=6890, symbol='EOG', right='0', primaryExchange='NYSE', currency='USD', localSymbol='EOG', tradingClass='EOG'), position=100.0, marketPrice=98.08000185, marketValue=9808.0, averageCost=97.5, unrealizedPNL=58.0, realizedPNL=0.0, account='DU1131437')\n",
      "INFO:ib_insync.wrapper:updatePortfolio: PortfolioItem(contract=Stock(conId=9720, symbol='MMM', right='0', primaryExchange='NYSE', currency='USD', localSymbol='MMM', tradingClass='MMM'), position=600.0, marketPrice=191.6000061, marketValue=114960.0, averageCost=190.83333335, unrealizedPNL=460.0, realizedPNL=0.0, account='DU1131437')\n",
      "INFO:ib_insync.wrapper:updatePortfolio: PortfolioItem(contract=Stock(conId=265655, symbol='ABMD', right='0', primaryExchange='NASDAQ', currency='USD', localSymbol='ABMD', tradingClass='NMS'), position=-400.0, marketPrice=274.91000365, marketValue=-109964.0, averageCost=274.6941945, unrealizedPNL=-86.32, realizedPNL=0.0, account='DU1131437')\n",
      "INFO:ib_insync.wrapper:updatePortfolio: PortfolioItem(contract=Stock(conId=267661, symbol='CINF', right='0', primaryExchange='NASDAQ', currency='USD', localSymbol='CINF', tradingClass='NMS'), position=-1100.0, marketPrice=94.19999695, marketValue=-103620.0, averageCost=93.9892989, unrealizedPNL=-231.77, realizedPNL=0.0, account='DU1131437')\n",
      "INFO:ib_insync.wrapper:updatePortfolio: PortfolioItem(contract=Stock(conId=270639, symbol='INTC', right='0', primaryExchange='NASDAQ', currency='USD', localSymbol='INTC', tradingClass='NMS'), position=2000.0, marketPrice=52.52000045, marketValue=105040.0, averageCost=51.735, unrealizedPNL=1570.0, realizedPNL=0.0, account='DU1131437')\n",
      "INFO:ib_insync.wrapper:updatePortfolio: PortfolioItem(contract=Stock(conId=273544, symbol='QCOM', right='0', primaryExchange='NASDAQ', currency='USD', localSymbol='QCOM', tradingClass='NMS'), position=-1200.0, marketPrice=86.87000275, marketValue=-104244.0, averageCost=86.223096, unrealizedPNL=-776.29, realizedPNL=0.0, account='DU1131437')\n",
      "INFO:ib_insync.wrapper:updatePortfolio: PortfolioItem(contract=Stock(conId=276222, symbol='XLNX', right='0', primaryExchange='NASDAQ', currency='USD', localSymbol='XLNX', tradingClass='NMS'), position=900.0, marketPrice=119.0400009, marketValue=107136.0, averageCost=117.785, unrealizedPNL=1129.5, realizedPNL=0.0, account='DU1131437')\n",
      "INFO:ib_insync.wrapper:updatePortfolio: PortfolioItem(contract=Stock(conId=4815747, symbol='NVDA', right='0', primaryExchange='NASDAQ', currency='USD', localSymbol='NVDA', tradingClass='NMS'), position=600.0, marketPrice=177.8999939, marketValue=106740.0, averageCost=176.2562, unrealizedPNL=986.28, realizedPNL=0.0, account='DU1131437')\n",
      "INFO:ib_insync.wrapper:updatePortfolio: PortfolioItem(contract=Stock(conId=5100583, symbol='FDX', right='0', primaryExchange='NYSE', currency='USD', localSymbol='FDX', tradingClass='FDX'), position=600.0, marketPrice=184.0399933, marketValue=110424.0, averageCost=183.095, unrealizedPNL=567.0, realizedPNL=0.0, account='DU1131437')\n",
      "INFO:ib_insync.wrapper:updatePortfolio: PortfolioItem(contract=Stock(conId=6231002, symbol='UPS', right='0', primaryExchange='NYSE', currency='USD', localSymbol='UPS', tradingClass='UPS'), position=1000.0, marketPrice=103.91000365, marketValue=103910.0, averageCost=103.285, unrealizedPNL=625.0, realizedPNL=0.0, account='DU1131437')\n",
      "INFO:ib_insync.wrapper:updatePortfolio: PortfolioItem(contract=Forex('USDCHF', conId=12087820, right='0', primaryExchange='IDEALPRO', localSymbol='USD.CHF', tradingClass='USD.CHF'), position=-25000.0, marketPrice=1.01972995, marketValue=-25493.25, averageCost=1.01618, unrealizedPNL=-88.75, realizedPNL=0.0, account='DU1131437')\n",
      "INFO:ib_insync.wrapper:updatePortfolio: PortfolioItem(contract=Stock(conId=26734397, symbol='BIIB', right='0', primaryExchange='NASDAQ', currency='USD', localSymbol='BIIB', tradingClass='NMS'), position=-500.0, marketPrice=230.0, marketValue=-115000.0, averageCost=229.6761264, unrealizedPNL=-161.94, realizedPNL=0.0, account='DU1131437')\n",
      "INFO:ib_insync.wrapper:updatePortfolio: PortfolioItem(contract=Stock(conId=76915240, symbol='STX', right='0', primaryExchange='NASDAQ', currency='USD', localSymbol='STX', tradingClass='NMS'), position=2200.0, marketPrice=44.9830017, marketValue=98962.6, averageCost=44.84, unrealizedPNL=314.6, realizedPNL=0.0, account='DU1131437')\n",
      "INFO:ib_insync.wrapper:updatePortfolio: PortfolioItem(contract=Stock(conId=173962302, symbol='ANTM', right='0', primaryExchange='NYSE', currency='USD', localSymbol='ANTM', tradingClass='ANTM'), position=-400.0, marketPrice=266.4299927, marketValue=-106572.0, averageCost=265.2793895, unrealizedPNL=-460.24, realizedPNL=0.0, account='DU1131437')\n",
      "INFO:ib_insync.wrapper:updatePortfolio: PortfolioItem(contract=Stock(conId=196986496, symbol='MNST', right='0', primaryExchange='NASDAQ', currency='USD', localSymbol='MNST', tradingClass='NMS'), position=-1900.0, marketPrice=59.65999985, marketValue=-113354.0, averageCost=59.0436587, unrealizedPNL=-1171.05, realizedPNL=0.0, account='DU1131437')\n",
      "INFO:ib_insync.wrapper:updatePortfolio: PortfolioItem(contract=Stock(conId=265655, symbol='ABMD', right='0', primaryExchange='NASDAQ', currency='USD', localSymbol='ABMD', tradingClass='NMS'), position=-400.0, marketPrice=274.91000365, marketValue=-109964.0, averageCost=274.6941945, unrealizedPNL=-86.32, realizedPNL=0.0, account='DU1131437')\n",
      "INFO:ib_insync.wrapper:updatePortfolio: PortfolioItem(contract=Forex('USDCHF', conId=12087820, right='0', primaryExchange='IDEALPRO', localSymbol='USD.CHF', tradingClass='USD.CHF'), position=-25000.0, marketPrice=1.019745, marketValue=-25493.62, averageCost=1.01618, unrealizedPNL=-89.12, realizedPNL=0.0, account='DU1131437')\n",
      "ERROR:ib_insync.wrapper:Error 1100, reqId -1: Connectivity between IB and Trader Workstation has been lost.\n"
     ]
    }
   ],
   "source": [
    "doprof(Future('RY', '201906', 'GLOBEX'), freq='15 min', freq2='900s')"
   ]
  },
  {
   "cell_type": "code",
   "execution_count": null,
   "metadata": {},
   "outputs": [],
   "source": []
  }
 ],
 "metadata": {
  "kernelspec": {
   "display_name": "Prophetic",
   "language": "python",
   "name": "proph"
  },
  "language_info": {
   "codemirror_mode": {
    "name": "ipython",
    "version": 3
   },
   "file_extension": ".py",
   "mimetype": "text/x-python",
   "name": "python",
   "nbconvert_exporter": "python",
   "pygments_lexer": "ipython3",
   "version": "3.7.3"
  }
 },
 "nbformat": 4,
 "nbformat_minor": 2
}
