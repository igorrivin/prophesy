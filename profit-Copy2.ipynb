{
 "cells": [
  {
   "cell_type": "code",
   "execution_count": 2,
   "metadata": {},
   "outputs": [],
   "source": [
    "from ib_insync import *\n",
    "import pandas as pd\n",
    "import numpy as np\n",
    "\n"
   ]
  },
  {
   "cell_type": "code",
   "execution_count": 3,
   "metadata": {},
   "outputs": [],
   "source": [
    "from fbprophet import Prophet\n",
    "import os"
   ]
  },
  {
   "cell_type": "code",
   "execution_count": 5,
   "metadata": {},
   "outputs": [],
   "source": [
    "btc = pd.read_csv(os.path.normpath('C:/Users/rivin/Downloads/Bitfinex_BTCUSD_1h.csv'), parse_dates=['Date'])"
   ]
  },
  {
   "cell_type": "code",
   "execution_count": 6,
   "metadata": {},
   "outputs": [
    {
     "data": {
      "text/html": [
       "<div>\n",
       "<style scoped>\n",
       "    .dataframe tbody tr th:only-of-type {\n",
       "        vertical-align: middle;\n",
       "    }\n",
       "\n",
       "    .dataframe tbody tr th {\n",
       "        vertical-align: top;\n",
       "    }\n",
       "\n",
       "    .dataframe thead th {\n",
       "        text-align: right;\n",
       "    }\n",
       "</style>\n",
       "<table border=\"1\" class=\"dataframe\">\n",
       "  <thead>\n",
       "    <tr style=\"text-align: right;\">\n",
       "      <th></th>\n",
       "      <th>Date</th>\n",
       "      <th>Symbol</th>\n",
       "      <th>Open</th>\n",
       "      <th>High</th>\n",
       "      <th>Low</th>\n",
       "      <th>Close</th>\n",
       "      <th>Volume BTC</th>\n",
       "      <th>Volume USD</th>\n",
       "    </tr>\n",
       "  </thead>\n",
       "  <tbody>\n",
       "    <tr>\n",
       "      <th>0</th>\n",
       "      <td>2019-04-11 10-AM</td>\n",
       "      <td>BTCUSD</td>\n",
       "      <td>5095.8</td>\n",
       "      <td>5095.8</td>\n",
       "      <td>5094.0</td>\n",
       "      <td>5094.0</td>\n",
       "      <td>0.00</td>\n",
       "      <td>0.00</td>\n",
       "    </tr>\n",
       "    <tr>\n",
       "      <th>1</th>\n",
       "      <td>2019-04-11 09-AM</td>\n",
       "      <td>BTCUSD</td>\n",
       "      <td>5197.8</td>\n",
       "      <td>5198.0</td>\n",
       "      <td>5006.0</td>\n",
       "      <td>5095.8</td>\n",
       "      <td>1753.58</td>\n",
       "      <td>8928984.06</td>\n",
       "    </tr>\n",
       "    <tr>\n",
       "      <th>2</th>\n",
       "      <td>2019-04-11 08-AM</td>\n",
       "      <td>BTCUSD</td>\n",
       "      <td>5190.5</td>\n",
       "      <td>5199.0</td>\n",
       "      <td>5139.0</td>\n",
       "      <td>5197.8</td>\n",
       "      <td>1379.24</td>\n",
       "      <td>7113282.76</td>\n",
       "    </tr>\n",
       "    <tr>\n",
       "      <th>3</th>\n",
       "      <td>2019-04-11 07-AM</td>\n",
       "      <td>BTCUSD</td>\n",
       "      <td>5213.3</td>\n",
       "      <td>5213.4</td>\n",
       "      <td>5188.1</td>\n",
       "      <td>5190.5</td>\n",
       "      <td>288.79</td>\n",
       "      <td>1501479.16</td>\n",
       "    </tr>\n",
       "    <tr>\n",
       "      <th>4</th>\n",
       "      <td>2019-04-11 06-AM</td>\n",
       "      <td>BTCUSD</td>\n",
       "      <td>5209.5</td>\n",
       "      <td>5220.7</td>\n",
       "      <td>5199.9</td>\n",
       "      <td>5213.3</td>\n",
       "      <td>381.70</td>\n",
       "      <td>1988700.06</td>\n",
       "    </tr>\n",
       "  </tbody>\n",
       "</table>\n",
       "</div>"
      ],
      "text/plain": [
       "               Date  Symbol    Open    High     Low   Close  Volume BTC  \\\n",
       "0  2019-04-11 10-AM  BTCUSD  5095.8  5095.8  5094.0  5094.0        0.00   \n",
       "1  2019-04-11 09-AM  BTCUSD  5197.8  5198.0  5006.0  5095.8     1753.58   \n",
       "2  2019-04-11 08-AM  BTCUSD  5190.5  5199.0  5139.0  5197.8     1379.24   \n",
       "3  2019-04-11 07-AM  BTCUSD  5213.3  5213.4  5188.1  5190.5      288.79   \n",
       "4  2019-04-11 06-AM  BTCUSD  5209.5  5220.7  5199.9  5213.3      381.70   \n",
       "\n",
       "   Volume USD  \n",
       "0        0.00  \n",
       "1  8928984.06  \n",
       "2  7113282.76  \n",
       "3  1501479.16  \n",
       "4  1988700.06  "
      ]
     },
     "execution_count": 6,
     "metadata": {},
     "output_type": "execute_result"
    }
   ],
   "source": [
    "btc.head()"
   ]
  },
  {
   "cell_type": "code",
   "execution_count": 15,
   "metadata": {},
   "outputs": [],
   "source": [
    "btc = btc.iloc[::-1]"
   ]
  },
  {
   "cell_type": "code",
   "execution_count": 16,
   "metadata": {},
   "outputs": [
    {
     "data": {
      "text/html": [
       "<div>\n",
       "<style scoped>\n",
       "    .dataframe tbody tr th:only-of-type {\n",
       "        vertical-align: middle;\n",
       "    }\n",
       "\n",
       "    .dataframe tbody tr th {\n",
       "        vertical-align: top;\n",
       "    }\n",
       "\n",
       "    .dataframe thead th {\n",
       "        text-align: right;\n",
       "    }\n",
       "</style>\n",
       "<table border=\"1\" class=\"dataframe\">\n",
       "  <thead>\n",
       "    <tr style=\"text-align: right;\">\n",
       "      <th></th>\n",
       "      <th>Date</th>\n",
       "      <th>Symbol</th>\n",
       "      <th>Open</th>\n",
       "      <th>High</th>\n",
       "      <th>Low</th>\n",
       "      <th>Close</th>\n",
       "      <th>Volume BTC</th>\n",
       "      <th>Volume USD</th>\n",
       "    </tr>\n",
       "  </thead>\n",
       "  <tbody>\n",
       "    <tr>\n",
       "      <th>13177</th>\n",
       "      <td>2017-10-09 09-AM</td>\n",
       "      <td>BTCUSD</td>\n",
       "      <td>4575.4</td>\n",
       "      <td>4589.5</td>\n",
       "      <td>4568.6</td>\n",
       "      <td>4585.7</td>\n",
       "      <td>628.89</td>\n",
       "      <td>2878897.86</td>\n",
       "    </tr>\n",
       "    <tr>\n",
       "      <th>13176</th>\n",
       "      <td>2017-10-09 10-AM</td>\n",
       "      <td>BTCUSD</td>\n",
       "      <td>4585.7</td>\n",
       "      <td>4619.0</td>\n",
       "      <td>4582.0</td>\n",
       "      <td>4594.9</td>\n",
       "      <td>1333.44</td>\n",
       "      <td>6134684.09</td>\n",
       "    </tr>\n",
       "    <tr>\n",
       "      <th>13175</th>\n",
       "      <td>2017-10-09 11-AM</td>\n",
       "      <td>BTCUSD</td>\n",
       "      <td>4594.9</td>\n",
       "      <td>4618.0</td>\n",
       "      <td>4594.9</td>\n",
       "      <td>4603.0</td>\n",
       "      <td>738.14</td>\n",
       "      <td>3401164.60</td>\n",
       "    </tr>\n",
       "    <tr>\n",
       "      <th>13174</th>\n",
       "      <td>2017-10-09 12-PM</td>\n",
       "      <td>BTCUSD</td>\n",
       "      <td>4603.0</td>\n",
       "      <td>4610.0</td>\n",
       "      <td>4585.0</td>\n",
       "      <td>4595.5</td>\n",
       "      <td>570.88</td>\n",
       "      <td>2625211.20</td>\n",
       "    </tr>\n",
       "    <tr>\n",
       "      <th>13173</th>\n",
       "      <td>2017-10-09 01-PM</td>\n",
       "      <td>BTCUSD</td>\n",
       "      <td>4595.5</td>\n",
       "      <td>4621.0</td>\n",
       "      <td>4585.1</td>\n",
       "      <td>4617.2</td>\n",
       "      <td>1196.97</td>\n",
       "      <td>5515389.68</td>\n",
       "    </tr>\n",
       "  </tbody>\n",
       "</table>\n",
       "</div>"
      ],
      "text/plain": [
       "                   Date  Symbol    Open    High     Low   Close  Volume BTC  \\\n",
       "13177  2017-10-09 09-AM  BTCUSD  4575.4  4589.5  4568.6  4585.7      628.89   \n",
       "13176  2017-10-09 10-AM  BTCUSD  4585.7  4619.0  4582.0  4594.9     1333.44   \n",
       "13175  2017-10-09 11-AM  BTCUSD  4594.9  4618.0  4594.9  4603.0      738.14   \n",
       "13174  2017-10-09 12-PM  BTCUSD  4603.0  4610.0  4585.0  4595.5      570.88   \n",
       "13173  2017-10-09 01-PM  BTCUSD  4595.5  4621.0  4585.1  4617.2     1196.97   \n",
       "\n",
       "       Volume USD  \n",
       "13177  2878897.86  \n",
       "13176  6134684.09  \n",
       "13175  3401164.60  \n",
       "13174  2625211.20  \n",
       "13173  5515389.68  "
      ]
     },
     "execution_count": 16,
     "metadata": {},
     "output_type": "execute_result"
    }
   ],
   "source": [
    "btc.head()"
   ]
  },
  {
   "cell_type": "code",
   "execution_count": 22,
   "metadata": {},
   "outputs": [
    {
     "data": {
      "text/html": [
       "<div>\n",
       "<style scoped>\n",
       "    .dataframe tbody tr th:only-of-type {\n",
       "        vertical-align: middle;\n",
       "    }\n",
       "\n",
       "    .dataframe tbody tr th {\n",
       "        vertical-align: top;\n",
       "    }\n",
       "\n",
       "    .dataframe thead th {\n",
       "        text-align: right;\n",
       "    }\n",
       "</style>\n",
       "<table border=\"1\" class=\"dataframe\">\n",
       "  <thead>\n",
       "    <tr style=\"text-align: right;\">\n",
       "      <th></th>\n",
       "      <th>Date</th>\n",
       "      <th>Symbol</th>\n",
       "      <th>Open</th>\n",
       "      <th>High</th>\n",
       "      <th>Low</th>\n",
       "      <th>Close</th>\n",
       "      <th>Volume BTC</th>\n",
       "      <th>Volume USD</th>\n",
       "    </tr>\n",
       "  </thead>\n",
       "  <tbody>\n",
       "    <tr>\n",
       "      <th>29</th>\n",
       "      <td>2019-04-10 05-AM</td>\n",
       "      <td>BTCUSD</td>\n",
       "      <td>5257.86</td>\n",
       "      <td>5288.00</td>\n",
       "      <td>5257.86</td>\n",
       "      <td>5287.10</td>\n",
       "      <td>395.98</td>\n",
       "      <td>2088854.34</td>\n",
       "    </tr>\n",
       "    <tr>\n",
       "      <th>28</th>\n",
       "      <td>2019-04-10 06-AM</td>\n",
       "      <td>BTCUSD</td>\n",
       "      <td>5287.10</td>\n",
       "      <td>5296.00</td>\n",
       "      <td>5275.10</td>\n",
       "      <td>5293.90</td>\n",
       "      <td>344.88</td>\n",
       "      <td>1823151.98</td>\n",
       "    </tr>\n",
       "    <tr>\n",
       "      <th>27</th>\n",
       "      <td>2019-04-10 07-AM</td>\n",
       "      <td>BTCUSD</td>\n",
       "      <td>5293.90</td>\n",
       "      <td>5299.00</td>\n",
       "      <td>5267.00</td>\n",
       "      <td>5269.80</td>\n",
       "      <td>404.55</td>\n",
       "      <td>2137645.14</td>\n",
       "    </tr>\n",
       "    <tr>\n",
       "      <th>26</th>\n",
       "      <td>2019-04-10 08-AM</td>\n",
       "      <td>BTCUSD</td>\n",
       "      <td>5269.80</td>\n",
       "      <td>5286.10</td>\n",
       "      <td>5268.00</td>\n",
       "      <td>5286.06</td>\n",
       "      <td>134.57</td>\n",
       "      <td>710481.12</td>\n",
       "    </tr>\n",
       "    <tr>\n",
       "      <th>25</th>\n",
       "      <td>2019-04-10 09-AM</td>\n",
       "      <td>BTCUSD</td>\n",
       "      <td>5286.06</td>\n",
       "      <td>5295.20</td>\n",
       "      <td>5276.20</td>\n",
       "      <td>5282.10</td>\n",
       "      <td>260.07</td>\n",
       "      <td>1374518.86</td>\n",
       "    </tr>\n",
       "    <tr>\n",
       "      <th>24</th>\n",
       "      <td>2019-04-10 10-AM</td>\n",
       "      <td>BTCUSD</td>\n",
       "      <td>5282.10</td>\n",
       "      <td>5282.80</td>\n",
       "      <td>5271.30</td>\n",
       "      <td>5280.00</td>\n",
       "      <td>170.46</td>\n",
       "      <td>899555.22</td>\n",
       "    </tr>\n",
       "    <tr>\n",
       "      <th>23</th>\n",
       "      <td>2019-04-10 11-AM</td>\n",
       "      <td>BTCUSD</td>\n",
       "      <td>5280.00</td>\n",
       "      <td>5290.00</td>\n",
       "      <td>5280.00</td>\n",
       "      <td>5282.37</td>\n",
       "      <td>151.73</td>\n",
       "      <td>802216.88</td>\n",
       "    </tr>\n",
       "    <tr>\n",
       "      <th>22</th>\n",
       "      <td>2019-04-10 12-PM</td>\n",
       "      <td>BTCUSD</td>\n",
       "      <td>5282.37</td>\n",
       "      <td>5330.00</td>\n",
       "      <td>5277.50</td>\n",
       "      <td>5309.96</td>\n",
       "      <td>853.69</td>\n",
       "      <td>4529766.58</td>\n",
       "    </tr>\n",
       "    <tr>\n",
       "      <th>21</th>\n",
       "      <td>2019-04-10 01-PM</td>\n",
       "      <td>BTCUSD</td>\n",
       "      <td>5309.96</td>\n",
       "      <td>5320.00</td>\n",
       "      <td>5282.50</td>\n",
       "      <td>5299.70</td>\n",
       "      <td>697.39</td>\n",
       "      <td>3699975.55</td>\n",
       "    </tr>\n",
       "    <tr>\n",
       "      <th>20</th>\n",
       "      <td>2019-04-10 02-PM</td>\n",
       "      <td>BTCUSD</td>\n",
       "      <td>5299.70</td>\n",
       "      <td>5303.50</td>\n",
       "      <td>5289.80</td>\n",
       "      <td>5297.90</td>\n",
       "      <td>197.15</td>\n",
       "      <td>1044091.38</td>\n",
       "    </tr>\n",
       "    <tr>\n",
       "      <th>19</th>\n",
       "      <td>2019-04-10 03-PM</td>\n",
       "      <td>BTCUSD</td>\n",
       "      <td>5297.90</td>\n",
       "      <td>5298.50</td>\n",
       "      <td>5268.00</td>\n",
       "      <td>5296.10</td>\n",
       "      <td>439.90</td>\n",
       "      <td>2325289.66</td>\n",
       "    </tr>\n",
       "    <tr>\n",
       "      <th>18</th>\n",
       "      <td>2019-04-10 04-PM</td>\n",
       "      <td>BTCUSD</td>\n",
       "      <td>5296.10</td>\n",
       "      <td>5317.00</td>\n",
       "      <td>5290.50</td>\n",
       "      <td>5298.95</td>\n",
       "      <td>272.42</td>\n",
       "      <td>1444950.83</td>\n",
       "    </tr>\n",
       "    <tr>\n",
       "      <th>17</th>\n",
       "      <td>2019-04-10 05-PM</td>\n",
       "      <td>BTCUSD</td>\n",
       "      <td>5298.95</td>\n",
       "      <td>5352.80</td>\n",
       "      <td>5290.72</td>\n",
       "      <td>5324.81</td>\n",
       "      <td>770.69</td>\n",
       "      <td>4111207.16</td>\n",
       "    </tr>\n",
       "    <tr>\n",
       "      <th>16</th>\n",
       "      <td>2019-04-10 06-PM</td>\n",
       "      <td>BTCUSD</td>\n",
       "      <td>5324.81</td>\n",
       "      <td>5488.00</td>\n",
       "      <td>5324.80</td>\n",
       "      <td>5431.00</td>\n",
       "      <td>3523.85</td>\n",
       "      <td>19108303.50</td>\n",
       "    </tr>\n",
       "    <tr>\n",
       "      <th>15</th>\n",
       "      <td>2019-04-10 07-PM</td>\n",
       "      <td>BTCUSD</td>\n",
       "      <td>5431.00</td>\n",
       "      <td>5474.70</td>\n",
       "      <td>5397.00</td>\n",
       "      <td>5434.40</td>\n",
       "      <td>1358.01</td>\n",
       "      <td>7378948.80</td>\n",
       "    </tr>\n",
       "    <tr>\n",
       "      <th>14</th>\n",
       "      <td>2019-04-10 08-PM</td>\n",
       "      <td>BTCUSD</td>\n",
       "      <td>5434.40</td>\n",
       "      <td>5454.40</td>\n",
       "      <td>5193.50</td>\n",
       "      <td>5301.50</td>\n",
       "      <td>3641.46</td>\n",
       "      <td>19314316.09</td>\n",
       "    </tr>\n",
       "    <tr>\n",
       "      <th>13</th>\n",
       "      <td>2019-04-10 09-PM</td>\n",
       "      <td>BTCUSD</td>\n",
       "      <td>5301.50</td>\n",
       "      <td>5327.40</td>\n",
       "      <td>5253.50</td>\n",
       "      <td>5296.00</td>\n",
       "      <td>830.28</td>\n",
       "      <td>4393809.85</td>\n",
       "    </tr>\n",
       "    <tr>\n",
       "      <th>12</th>\n",
       "      <td>2019-04-10 10-PM</td>\n",
       "      <td>BTCUSD</td>\n",
       "      <td>5296.00</td>\n",
       "      <td>5298.00</td>\n",
       "      <td>5265.60</td>\n",
       "      <td>5288.20</td>\n",
       "      <td>216.09</td>\n",
       "      <td>1141995.53</td>\n",
       "    </tr>\n",
       "    <tr>\n",
       "      <th>11</th>\n",
       "      <td>2019-04-10 11-PM</td>\n",
       "      <td>BTCUSD</td>\n",
       "      <td>5288.20</td>\n",
       "      <td>5321.08</td>\n",
       "      <td>5288.20</td>\n",
       "      <td>5310.10</td>\n",
       "      <td>397.90</td>\n",
       "      <td>2110925.63</td>\n",
       "    </tr>\n",
       "    <tr>\n",
       "      <th>10</th>\n",
       "      <td>2019-04-11 12-AM</td>\n",
       "      <td>BTCUSD</td>\n",
       "      <td>5310.10</td>\n",
       "      <td>5342.10</td>\n",
       "      <td>5280.30</td>\n",
       "      <td>5307.10</td>\n",
       "      <td>693.63</td>\n",
       "      <td>3687607.81</td>\n",
       "    </tr>\n",
       "    <tr>\n",
       "      <th>9</th>\n",
       "      <td>2019-04-11 01-AM</td>\n",
       "      <td>BTCUSD</td>\n",
       "      <td>5307.10</td>\n",
       "      <td>5314.00</td>\n",
       "      <td>5287.10</td>\n",
       "      <td>5291.30</td>\n",
       "      <td>212.34</td>\n",
       "      <td>1125891.14</td>\n",
       "    </tr>\n",
       "    <tr>\n",
       "      <th>8</th>\n",
       "      <td>2019-04-11 02-AM</td>\n",
       "      <td>BTCUSD</td>\n",
       "      <td>5291.30</td>\n",
       "      <td>5300.70</td>\n",
       "      <td>5283.00</td>\n",
       "      <td>5296.60</td>\n",
       "      <td>289.99</td>\n",
       "      <td>1534528.46</td>\n",
       "    </tr>\n",
       "    <tr>\n",
       "      <th>7</th>\n",
       "      <td>2019-04-11 03-AM</td>\n",
       "      <td>BTCUSD</td>\n",
       "      <td>5296.60</td>\n",
       "      <td>5299.50</td>\n",
       "      <td>4952.40</td>\n",
       "      <td>5160.00</td>\n",
       "      <td>5324.30</td>\n",
       "      <td>27388221.83</td>\n",
       "    </tr>\n",
       "    <tr>\n",
       "      <th>6</th>\n",
       "      <td>2019-04-11 04-AM</td>\n",
       "      <td>BTCUSD</td>\n",
       "      <td>5160.00</td>\n",
       "      <td>5219.60</td>\n",
       "      <td>5122.00</td>\n",
       "      <td>5208.80</td>\n",
       "      <td>867.22</td>\n",
       "      <td>4495464.38</td>\n",
       "    </tr>\n",
       "    <tr>\n",
       "      <th>5</th>\n",
       "      <td>2019-04-11 05-AM</td>\n",
       "      <td>BTCUSD</td>\n",
       "      <td>5208.80</td>\n",
       "      <td>5210.00</td>\n",
       "      <td>5169.20</td>\n",
       "      <td>5209.50</td>\n",
       "      <td>446.77</td>\n",
       "      <td>2322663.68</td>\n",
       "    </tr>\n",
       "    <tr>\n",
       "      <th>4</th>\n",
       "      <td>2019-04-11 06-AM</td>\n",
       "      <td>BTCUSD</td>\n",
       "      <td>5209.50</td>\n",
       "      <td>5220.70</td>\n",
       "      <td>5199.90</td>\n",
       "      <td>5213.30</td>\n",
       "      <td>381.70</td>\n",
       "      <td>1988700.06</td>\n",
       "    </tr>\n",
       "    <tr>\n",
       "      <th>3</th>\n",
       "      <td>2019-04-11 07-AM</td>\n",
       "      <td>BTCUSD</td>\n",
       "      <td>5213.30</td>\n",
       "      <td>5213.40</td>\n",
       "      <td>5188.10</td>\n",
       "      <td>5190.50</td>\n",
       "      <td>288.79</td>\n",
       "      <td>1501479.16</td>\n",
       "    </tr>\n",
       "    <tr>\n",
       "      <th>2</th>\n",
       "      <td>2019-04-11 08-AM</td>\n",
       "      <td>BTCUSD</td>\n",
       "      <td>5190.50</td>\n",
       "      <td>5199.00</td>\n",
       "      <td>5139.00</td>\n",
       "      <td>5197.80</td>\n",
       "      <td>1379.24</td>\n",
       "      <td>7113282.76</td>\n",
       "    </tr>\n",
       "    <tr>\n",
       "      <th>1</th>\n",
       "      <td>2019-04-11 09-AM</td>\n",
       "      <td>BTCUSD</td>\n",
       "      <td>5197.80</td>\n",
       "      <td>5198.00</td>\n",
       "      <td>5006.00</td>\n",
       "      <td>5095.80</td>\n",
       "      <td>1753.58</td>\n",
       "      <td>8928984.06</td>\n",
       "    </tr>\n",
       "    <tr>\n",
       "      <th>0</th>\n",
       "      <td>2019-04-11 10-AM</td>\n",
       "      <td>BTCUSD</td>\n",
       "      <td>5095.80</td>\n",
       "      <td>5095.80</td>\n",
       "      <td>5094.00</td>\n",
       "      <td>5094.00</td>\n",
       "      <td>0.00</td>\n",
       "      <td>0.00</td>\n",
       "    </tr>\n",
       "  </tbody>\n",
       "</table>\n",
       "</div>"
      ],
      "text/plain": [
       "                Date  Symbol     Open     High      Low    Close  Volume BTC  \\\n",
       "29  2019-04-10 05-AM  BTCUSD  5257.86  5288.00  5257.86  5287.10      395.98   \n",
       "28  2019-04-10 06-AM  BTCUSD  5287.10  5296.00  5275.10  5293.90      344.88   \n",
       "27  2019-04-10 07-AM  BTCUSD  5293.90  5299.00  5267.00  5269.80      404.55   \n",
       "26  2019-04-10 08-AM  BTCUSD  5269.80  5286.10  5268.00  5286.06      134.57   \n",
       "25  2019-04-10 09-AM  BTCUSD  5286.06  5295.20  5276.20  5282.10      260.07   \n",
       "24  2019-04-10 10-AM  BTCUSD  5282.10  5282.80  5271.30  5280.00      170.46   \n",
       "23  2019-04-10 11-AM  BTCUSD  5280.00  5290.00  5280.00  5282.37      151.73   \n",
       "22  2019-04-10 12-PM  BTCUSD  5282.37  5330.00  5277.50  5309.96      853.69   \n",
       "21  2019-04-10 01-PM  BTCUSD  5309.96  5320.00  5282.50  5299.70      697.39   \n",
       "20  2019-04-10 02-PM  BTCUSD  5299.70  5303.50  5289.80  5297.90      197.15   \n",
       "19  2019-04-10 03-PM  BTCUSD  5297.90  5298.50  5268.00  5296.10      439.90   \n",
       "18  2019-04-10 04-PM  BTCUSD  5296.10  5317.00  5290.50  5298.95      272.42   \n",
       "17  2019-04-10 05-PM  BTCUSD  5298.95  5352.80  5290.72  5324.81      770.69   \n",
       "16  2019-04-10 06-PM  BTCUSD  5324.81  5488.00  5324.80  5431.00     3523.85   \n",
       "15  2019-04-10 07-PM  BTCUSD  5431.00  5474.70  5397.00  5434.40     1358.01   \n",
       "14  2019-04-10 08-PM  BTCUSD  5434.40  5454.40  5193.50  5301.50     3641.46   \n",
       "13  2019-04-10 09-PM  BTCUSD  5301.50  5327.40  5253.50  5296.00      830.28   \n",
       "12  2019-04-10 10-PM  BTCUSD  5296.00  5298.00  5265.60  5288.20      216.09   \n",
       "11  2019-04-10 11-PM  BTCUSD  5288.20  5321.08  5288.20  5310.10      397.90   \n",
       "10  2019-04-11 12-AM  BTCUSD  5310.10  5342.10  5280.30  5307.10      693.63   \n",
       "9   2019-04-11 01-AM  BTCUSD  5307.10  5314.00  5287.10  5291.30      212.34   \n",
       "8   2019-04-11 02-AM  BTCUSD  5291.30  5300.70  5283.00  5296.60      289.99   \n",
       "7   2019-04-11 03-AM  BTCUSD  5296.60  5299.50  4952.40  5160.00     5324.30   \n",
       "6   2019-04-11 04-AM  BTCUSD  5160.00  5219.60  5122.00  5208.80      867.22   \n",
       "5   2019-04-11 05-AM  BTCUSD  5208.80  5210.00  5169.20  5209.50      446.77   \n",
       "4   2019-04-11 06-AM  BTCUSD  5209.50  5220.70  5199.90  5213.30      381.70   \n",
       "3   2019-04-11 07-AM  BTCUSD  5213.30  5213.40  5188.10  5190.50      288.79   \n",
       "2   2019-04-11 08-AM  BTCUSD  5190.50  5199.00  5139.00  5197.80     1379.24   \n",
       "1   2019-04-11 09-AM  BTCUSD  5197.80  5198.00  5006.00  5095.80     1753.58   \n",
       "0   2019-04-11 10-AM  BTCUSD  5095.80  5095.80  5094.00  5094.00        0.00   \n",
       "\n",
       "     Volume USD  \n",
       "29   2088854.34  \n",
       "28   1823151.98  \n",
       "27   2137645.14  \n",
       "26    710481.12  \n",
       "25   1374518.86  \n",
       "24    899555.22  \n",
       "23    802216.88  \n",
       "22   4529766.58  \n",
       "21   3699975.55  \n",
       "20   1044091.38  \n",
       "19   2325289.66  \n",
       "18   1444950.83  \n",
       "17   4111207.16  \n",
       "16  19108303.50  \n",
       "15   7378948.80  \n",
       "14  19314316.09  \n",
       "13   4393809.85  \n",
       "12   1141995.53  \n",
       "11   2110925.63  \n",
       "10   3687607.81  \n",
       "9    1125891.14  \n",
       "8    1534528.46  \n",
       "7   27388221.83  \n",
       "6    4495464.38  \n",
       "5    2322663.68  \n",
       "4    1988700.06  \n",
       "3    1501479.16  \n",
       "2    7113282.76  \n",
       "1    8928984.06  \n",
       "0          0.00  "
      ]
     },
     "execution_count": 22,
     "metadata": {},
     "output_type": "execute_result"
    }
   ],
   "source": [
    "btc.tail(30)"
   ]
  },
  {
   "cell_type": "code",
   "execution_count": 23,
   "metadata": {},
   "outputs": [],
   "source": [
    "ri = pd.date_range(start='20171009090000', end='20190411100000', freq='1H')"
   ]
  },
  {
   "cell_type": "code",
   "execution_count": 20,
   "metadata": {},
   "outputs": [
    {
     "data": {
      "text/plain": [
       "DatetimeIndex(['2017-10-09 09:00:00', '2017-10-09 10:00:00',\n",
       "               '2017-10-09 11:00:00', '2017-10-09 12:00:00',\n",
       "               '2017-10-09 13:00:00', '2017-10-09 14:00:00',\n",
       "               '2017-10-09 15:00:00', '2017-10-09 16:00:00',\n",
       "               '2017-10-09 17:00:00', '2017-10-09 18:00:00',\n",
       "               ...\n",
       "               '2019-04-09 15:00:00', '2019-04-09 16:00:00',\n",
       "               '2019-04-09 17:00:00', '2019-04-09 18:00:00',\n",
       "               '2019-04-09 19:00:00', '2019-04-09 20:00:00',\n",
       "               '2019-04-09 21:00:00', '2019-04-09 22:00:00',\n",
       "               '2019-04-09 23:00:00', '2019-04-10 00:00:00'],\n",
       "              dtype='datetime64[ns]', length=13144, freq='H')"
      ]
     },
     "execution_count": 20,
     "metadata": {},
     "output_type": "execute_result"
    }
   ],
   "source": [
    "ri"
   ]
  },
  {
   "cell_type": "code",
   "execution_count": 24,
   "metadata": {},
   "outputs": [],
   "source": [
    "foo = btc.set_index(ri)"
   ]
  },
  {
   "cell_type": "code",
   "execution_count": 27,
   "metadata": {},
   "outputs": [],
   "source": [
    "btc = foo.drop('Date', axis=1).reset_index()"
   ]
  },
  {
   "cell_type": "code",
   "execution_count": 28,
   "metadata": {},
   "outputs": [
    {
     "data": {
      "text/html": [
       "<div>\n",
       "<style scoped>\n",
       "    .dataframe tbody tr th:only-of-type {\n",
       "        vertical-align: middle;\n",
       "    }\n",
       "\n",
       "    .dataframe tbody tr th {\n",
       "        vertical-align: top;\n",
       "    }\n",
       "\n",
       "    .dataframe thead th {\n",
       "        text-align: right;\n",
       "    }\n",
       "</style>\n",
       "<table border=\"1\" class=\"dataframe\">\n",
       "  <thead>\n",
       "    <tr style=\"text-align: right;\">\n",
       "      <th></th>\n",
       "      <th>index</th>\n",
       "      <th>Symbol</th>\n",
       "      <th>Open</th>\n",
       "      <th>High</th>\n",
       "      <th>Low</th>\n",
       "      <th>Close</th>\n",
       "      <th>Volume BTC</th>\n",
       "      <th>Volume USD</th>\n",
       "    </tr>\n",
       "  </thead>\n",
       "  <tbody>\n",
       "    <tr>\n",
       "      <th>0</th>\n",
       "      <td>2017-10-09 09:00:00</td>\n",
       "      <td>BTCUSD</td>\n",
       "      <td>4575.4</td>\n",
       "      <td>4589.5</td>\n",
       "      <td>4568.6</td>\n",
       "      <td>4585.7</td>\n",
       "      <td>628.89</td>\n",
       "      <td>2878897.86</td>\n",
       "    </tr>\n",
       "    <tr>\n",
       "      <th>1</th>\n",
       "      <td>2017-10-09 10:00:00</td>\n",
       "      <td>BTCUSD</td>\n",
       "      <td>4585.7</td>\n",
       "      <td>4619.0</td>\n",
       "      <td>4582.0</td>\n",
       "      <td>4594.9</td>\n",
       "      <td>1333.44</td>\n",
       "      <td>6134684.09</td>\n",
       "    </tr>\n",
       "    <tr>\n",
       "      <th>2</th>\n",
       "      <td>2017-10-09 11:00:00</td>\n",
       "      <td>BTCUSD</td>\n",
       "      <td>4594.9</td>\n",
       "      <td>4618.0</td>\n",
       "      <td>4594.9</td>\n",
       "      <td>4603.0</td>\n",
       "      <td>738.14</td>\n",
       "      <td>3401164.60</td>\n",
       "    </tr>\n",
       "    <tr>\n",
       "      <th>3</th>\n",
       "      <td>2017-10-09 12:00:00</td>\n",
       "      <td>BTCUSD</td>\n",
       "      <td>4603.0</td>\n",
       "      <td>4610.0</td>\n",
       "      <td>4585.0</td>\n",
       "      <td>4595.5</td>\n",
       "      <td>570.88</td>\n",
       "      <td>2625211.20</td>\n",
       "    </tr>\n",
       "    <tr>\n",
       "      <th>4</th>\n",
       "      <td>2017-10-09 13:00:00</td>\n",
       "      <td>BTCUSD</td>\n",
       "      <td>4595.5</td>\n",
       "      <td>4621.0</td>\n",
       "      <td>4585.1</td>\n",
       "      <td>4617.2</td>\n",
       "      <td>1196.97</td>\n",
       "      <td>5515389.68</td>\n",
       "    </tr>\n",
       "  </tbody>\n",
       "</table>\n",
       "</div>"
      ],
      "text/plain": [
       "                index  Symbol    Open    High     Low   Close  Volume BTC  \\\n",
       "0 2017-10-09 09:00:00  BTCUSD  4575.4  4589.5  4568.6  4585.7      628.89   \n",
       "1 2017-10-09 10:00:00  BTCUSD  4585.7  4619.0  4582.0  4594.9     1333.44   \n",
       "2 2017-10-09 11:00:00  BTCUSD  4594.9  4618.0  4594.9  4603.0      738.14   \n",
       "3 2017-10-09 12:00:00  BTCUSD  4603.0  4610.0  4585.0  4595.5      570.88   \n",
       "4 2017-10-09 13:00:00  BTCUSD  4595.5  4621.0  4585.1  4617.2     1196.97   \n",
       "\n",
       "   Volume USD  \n",
       "0  2878897.86  \n",
       "1  6134684.09  \n",
       "2  3401164.60  \n",
       "3  2625211.20  \n",
       "4  5515389.68  "
      ]
     },
     "execution_count": 28,
     "metadata": {},
     "output_type": "execute_result"
    }
   ],
   "source": []
  },
  {
   "cell_type": "code",
   "execution_count": 29,
   "metadata": {},
   "outputs": [],
   "source": [
    "prodf = btc[['index', 'Close']]"
   ]
  },
  {
   "cell_type": "code",
   "execution_count": 30,
   "metadata": {},
   "outputs": [],
   "source": [
    "prodf.columns = ['ds', 'y']"
   ]
  },
  {
   "cell_type": "code",
   "execution_count": null,
   "metadata": {},
   "outputs": [],
   "source": []
  },
  {
   "cell_type": "code",
   "execution_count": 31,
   "metadata": {
    "scrolled": true
   },
   "outputs": [
    {
     "name": "stderr",
     "output_type": "stream",
     "text": [
      "C:\\ProgramData\\Anaconda3\\envs\\proph\\lib\\site-packages\\pandas\\core\\generic.py:5096: SettingWithCopyWarning: \n",
      "A value is trying to be set on a copy of a slice from a DataFrame.\n",
      "Try using .loc[row_indexer,col_indexer] = value instead\n",
      "\n",
      "See the caveats in the documentation: http://pandas.pydata.org/pandas-docs/stable/indexing.html#indexing-view-versus-copy\n",
      "  self[name] = value\n"
     ]
    }
   ],
   "source": [
    "prodf.y = np.log(prodf.y)"
   ]
  },
  {
   "cell_type": "code",
   "execution_count": null,
   "metadata": {},
   "outputs": [],
   "source": [
    "#prodf.reset_index(inplace=True)"
   ]
  },
  {
   "cell_type": "code",
   "execution_count": 32,
   "metadata": {},
   "outputs": [],
   "source": [
    "pp = Prophet(changepoint_prior_scale=0.001)"
   ]
  },
  {
   "cell_type": "code",
   "execution_count": 33,
   "metadata": {
    "scrolled": true
   },
   "outputs": [
    {
     "name": "stderr",
     "output_type": "stream",
     "text": [
      "C:\\ProgramData\\Anaconda3\\envs\\proph\\lib\\site-packages\\fbprophet\\forecaster.py:880: FutureWarning: Series.nonzero() is deprecated and will be removed in a future version.Use Series.to_numpy().nonzero() instead\n",
      "  min_dt = dt.iloc[dt.nonzero()[0]].min()\n",
      "INFO:fbprophet:Disabling yearly seasonality. Run prophet with yearly_seasonality=True to override this.\n",
      "C:\\ProgramData\\Anaconda3\\envs\\proph\\lib\\site-packages\\pystan\\misc.py:399: FutureWarning: Conversion of the second argument of issubdtype from `float` to `np.floating` is deprecated. In future, it will be treated as `np.float64 == np.dtype(float).type`.\n",
      "  elif np.issubdtype(np.asarray(v).dtype, float):\n"
     ]
    },
    {
     "data": {
      "text/plain": [
       "<fbprophet.forecaster.Prophet at 0x20b274dcf28>"
      ]
     },
     "execution_count": 33,
     "metadata": {},
     "output_type": "execute_result"
    }
   ],
   "source": [
    "pp.fit(prodf)"
   ]
  },
  {
   "cell_type": "code",
   "execution_count": 34,
   "metadata": {},
   "outputs": [],
   "source": [
    "future = pp.make_future_dataframe(24, freq='1H')"
   ]
  },
  {
   "cell_type": "code",
   "execution_count": 35,
   "metadata": {},
   "outputs": [],
   "source": [
    "forecast = pp.predict(future)"
   ]
  },
  {
   "cell_type": "code",
   "execution_count": 36,
   "metadata": {},
   "outputs": [],
   "source": [
    "ff = forecast[['ds', 'yhat']]"
   ]
  },
  {
   "cell_type": "code",
   "execution_count": 93,
   "metadata": {},
   "outputs": [],
   "source": [
    "both = pd.concat([prodf, ff], axis=1)"
   ]
  },
  {
   "cell_type": "code",
   "execution_count": 94,
   "metadata": {},
   "outputs": [],
   "source": [
    "both['pdiff'] = both['yhat'] - both['y']\n",
    "both['rdiff'] = -both.y.diff(-24)"
   ]
  },
  {
   "cell_type": "code",
   "execution_count": 39,
   "metadata": {},
   "outputs": [],
   "source": [
    "import seaborn as sns\n",
    "%matplotlib inline"
   ]
  },
  {
   "cell_type": "code",
   "execution_count": 40,
   "metadata": {},
   "outputs": [
    {
     "data": {
      "text/plain": [
       "<matplotlib.axes._subplots.AxesSubplot at 0x20b27876438>"
      ]
     },
     "execution_count": 40,
     "metadata": {},
     "output_type": "execute_result"
    },
    {
     "data": {
      "image/png": "[encoded data removed]",
      "text/plain": [
       "<Figure size 432x288 with 1 Axes>"
      ]
     },
     "metadata": {
      "needs_background": "light"
     },
     "output_type": "display_data"
    }
   ],
   "source": [
    "sns.regplot(x='pdiff', y='rdiff', data=both)"
   ]
  },
  {
   "cell_type": "code",
   "execution_count": 96,
   "metadata": {},
   "outputs": [
    {
     "data": {
      "text/html": [
       "<div>\n",
       "<style scoped>\n",
       "    .dataframe tbody tr th:only-of-type {\n",
       "        vertical-align: middle;\n",
       "    }\n",
       "\n",
       "    .dataframe tbody tr th {\n",
       "        vertical-align: top;\n",
       "    }\n",
       "\n",
       "    .dataframe thead th {\n",
       "        text-align: right;\n",
       "    }\n",
       "</style>\n",
       "<table border=\"1\" class=\"dataframe\">\n",
       "  <thead>\n",
       "    <tr style=\"text-align: right;\">\n",
       "      <th></th>\n",
       "      <th>ds</th>\n",
       "      <th>y</th>\n",
       "      <th>ds</th>\n",
       "      <th>yhat</th>\n",
       "      <th>pdiff</th>\n",
       "      <th>rdiff</th>\n",
       "    </tr>\n",
       "  </thead>\n",
       "  <tbody>\n",
       "    <tr>\n",
       "      <th>0</th>\n",
       "      <td>2017-10-09 09:00:00</td>\n",
       "      <td>8.430698</td>\n",
       "      <td>2017-10-09 09:00:00</td>\n",
       "      <td>8.424669</td>\n",
       "      <td>-0.006029</td>\n",
       "      <td>0.042898</td>\n",
       "    </tr>\n",
       "    <tr>\n",
       "      <th>1</th>\n",
       "      <td>2017-10-09 10:00:00</td>\n",
       "      <td>8.432702</td>\n",
       "      <td>2017-10-09 10:00:00</td>\n",
       "      <td>8.425201</td>\n",
       "      <td>-0.007501</td>\n",
       "      <td>0.047599</td>\n",
       "    </tr>\n",
       "    <tr>\n",
       "      <th>2</th>\n",
       "      <td>2017-10-09 11:00:00</td>\n",
       "      <td>8.434464</td>\n",
       "      <td>2017-10-09 11:00:00</td>\n",
       "      <td>8.426080</td>\n",
       "      <td>-0.008383</td>\n",
       "      <td>0.043136</td>\n",
       "    </tr>\n",
       "    <tr>\n",
       "      <th>3</th>\n",
       "      <td>2017-10-09 12:00:00</td>\n",
       "      <td>8.432833</td>\n",
       "      <td>2017-10-09 12:00:00</td>\n",
       "      <td>8.427125</td>\n",
       "      <td>-0.005708</td>\n",
       "      <td>0.054066</td>\n",
       "    </tr>\n",
       "    <tr>\n",
       "      <th>4</th>\n",
       "      <td>2017-10-09 13:00:00</td>\n",
       "      <td>8.437544</td>\n",
       "      <td>2017-10-09 13:00:00</td>\n",
       "      <td>8.428035</td>\n",
       "      <td>-0.009509</td>\n",
       "      <td>0.044395</td>\n",
       "    </tr>\n",
       "  </tbody>\n",
       "</table>\n",
       "</div>"
      ],
      "text/plain": [
       "                   ds         y                  ds      yhat     pdiff  \\\n",
       "0 2017-10-09 09:00:00  8.430698 2017-10-09 09:00:00  8.424669 -0.006029   \n",
       "1 2017-10-09 10:00:00  8.432702 2017-10-09 10:00:00  8.425201 -0.007501   \n",
       "2 2017-10-09 11:00:00  8.434464 2017-10-09 11:00:00  8.426080 -0.008383   \n",
       "3 2017-10-09 12:00:00  8.432833 2017-10-09 12:00:00  8.427125 -0.005708   \n",
       "4 2017-10-09 13:00:00  8.437544 2017-10-09 13:00:00  8.428035 -0.009509   \n",
       "\n",
       "      rdiff  \n",
       "0  0.042898  \n",
       "1  0.047599  \n",
       "2  0.043136  \n",
       "3  0.054066  \n",
       "4  0.044395  "
      ]
     },
     "execution_count": 96,
     "metadata": {},
     "output_type": "execute_result"
    }
   ],
   "source": [
    "both.head()"
   ]
  },
  {
   "cell_type": "code",
   "execution_count": 97,
   "metadata": {
    "scrolled": true
   },
   "outputs": [],
   "source": [
    "both.columns = ['ds', 'y', 'ds2', 'yhat', 'pdiff', 'rdiff']"
   ]
  },
  {
   "cell_type": "code",
   "execution_count": 98,
   "metadata": {},
   "outputs": [],
   "source": [
    "bigboth = both[both.pdiff>0.01]\n",
    "littleboth = both[both.pdiff < -0.01]"
   ]
  },
  {
   "cell_type": "code",
   "execution_count": 101,
   "metadata": {},
   "outputs": [
    {
     "data": {
      "text/html": [
       "<div>\n",
       "<style scoped>\n",
       "    .dataframe tbody tr th:only-of-type {\n",
       "        vertical-align: middle;\n",
       "    }\n",
       "\n",
       "    .dataframe tbody tr th {\n",
       "        vertical-align: top;\n",
       "    }\n",
       "\n",
       "    .dataframe thead th {\n",
       "        text-align: right;\n",
       "    }\n",
       "</style>\n",
       "<table border=\"1\" class=\"dataframe\">\n",
       "  <thead>\n",
       "    <tr style=\"text-align: right;\">\n",
       "      <th></th>\n",
       "      <th>ds</th>\n",
       "      <th>y</th>\n",
       "      <th>ds2</th>\n",
       "      <th>yhat</th>\n",
       "      <th>pdiff</th>\n",
       "      <th>rdiff</th>\n",
       "    </tr>\n",
       "  </thead>\n",
       "  <tbody>\n",
       "    <tr>\n",
       "      <th>5</th>\n",
       "      <td>2017-10-09 14:00:00</td>\n",
       "      <td>8.448272</td>\n",
       "      <td>2017-10-09 14:00:00</td>\n",
       "      <td>8.428668</td>\n",
       "      <td>-0.019604</td>\n",
       "      <td>0.027516</td>\n",
       "    </tr>\n",
       "    <tr>\n",
       "      <th>6</th>\n",
       "      <td>2017-10-09 15:00:00</td>\n",
       "      <td>8.443116</td>\n",
       "      <td>2017-10-09 15:00:00</td>\n",
       "      <td>8.429135</td>\n",
       "      <td>-0.013981</td>\n",
       "      <td>0.033693</td>\n",
       "    </tr>\n",
       "    <tr>\n",
       "      <th>7</th>\n",
       "      <td>2017-10-09 16:00:00</td>\n",
       "      <td>8.444601</td>\n",
       "      <td>2017-10-09 16:00:00</td>\n",
       "      <td>8.429649</td>\n",
       "      <td>-0.014952</td>\n",
       "      <td>0.049897</td>\n",
       "    </tr>\n",
       "    <tr>\n",
       "      <th>8</th>\n",
       "      <td>2017-10-09 17:00:00</td>\n",
       "      <td>8.458568</td>\n",
       "      <td>2017-10-09 17:00:00</td>\n",
       "      <td>8.430304</td>\n",
       "      <td>-0.028264</td>\n",
       "      <td>0.038423</td>\n",
       "    </tr>\n",
       "    <tr>\n",
       "      <th>9</th>\n",
       "      <td>2017-10-09 18:00:00</td>\n",
       "      <td>8.464847</td>\n",
       "      <td>2017-10-09 18:00:00</td>\n",
       "      <td>8.431019</td>\n",
       "      <td>-0.033827</td>\n",
       "      <td>0.028873</td>\n",
       "    </tr>\n",
       "  </tbody>\n",
       "</table>\n",
       "</div>"
      ],
      "text/plain": [
       "                   ds         y                 ds2      yhat     pdiff  \\\n",
       "5 2017-10-09 14:00:00  8.448272 2017-10-09 14:00:00  8.428668 -0.019604   \n",
       "6 2017-10-09 15:00:00  8.443116 2017-10-09 15:00:00  8.429135 -0.013981   \n",
       "7 2017-10-09 16:00:00  8.444601 2017-10-09 16:00:00  8.429649 -0.014952   \n",
       "8 2017-10-09 17:00:00  8.458568 2017-10-09 17:00:00  8.430304 -0.028264   \n",
       "9 2017-10-09 18:00:00  8.464847 2017-10-09 18:00:00  8.431019 -0.033827   \n",
       "\n",
       "      rdiff  \n",
       "5  0.027516  \n",
       "6  0.033693  \n",
       "7  0.049897  \n",
       "8  0.038423  \n",
       "9  0.028873  "
      ]
     },
     "execution_count": 101,
     "metadata": {},
     "output_type": "execute_result"
    }
   ],
   "source": [
    "littleboth.head()"
   ]
  },
  {
   "cell_type": "code",
   "execution_count": 102,
   "metadata": {},
   "outputs": [
    {
     "name": "stderr",
     "output_type": "stream",
     "text": [
      "C:\\ProgramData\\Anaconda3\\envs\\proph\\lib\\site-packages\\ipykernel_launcher.py:1: SettingWithCopyWarning: \n",
      "A value is trying to be set on a copy of a slice from a DataFrame.\n",
      "Try using .loc[row_indexer,col_indexer] = value instead\n",
      "\n",
      "See the caveats in the documentation: http://pandas.pydata.org/pandas-docs/stable/indexing.html#indexing-view-versus-copy\n",
      "  \"\"\"Entry point for launching an IPython kernel.\n",
      "C:\\ProgramData\\Anaconda3\\envs\\proph\\lib\\site-packages\\ipykernel_launcher.py:2: SettingWithCopyWarning: \n",
      "A value is trying to be set on a copy of a slice from a DataFrame.\n",
      "Try using .loc[row_indexer,col_indexer] = value instead\n",
      "\n",
      "See the caveats in the documentation: http://pandas.pydata.org/pandas-docs/stable/indexing.html#indexing-view-versus-copy\n",
      "  \n"
     ]
    }
   ],
   "source": [
    "bigboth['ddd'] = bigboth.ds.dt.date\n",
    "littleboth['ddd'] = littleboth.ds.dt.date"
   ]
  },
  {
   "cell_type": "code",
   "execution_count": 103,
   "metadata": {},
   "outputs": [],
   "source": [
    "bbb = bigboth.groupby('ddd').first()\n",
    "lll = littleboth.groupby('ddd').first()"
   ]
  },
  {
   "cell_type": "code",
   "execution_count": 106,
   "metadata": {},
   "outputs": [
    {
     "name": "stderr",
     "output_type": "stream",
     "text": [
      "C:\\ProgramData\\Anaconda3\\envs\\proph\\lib\\site-packages\\ipykernel_launcher.py:1: FutureWarning: Sorting because non-concatenation axis is not aligned. A future version\n",
      "of pandas will change to not sort by default.\n",
      "\n",
      "To accept the future behavior, pass 'sort=False'.\n",
      "\n",
      "To retain the current behavior and silence the warning, pass 'sort=True'.\n",
      "\n",
      "  \"\"\"Entry point for launching an IPython kernel.\n"
     ]
    }
   ],
   "source": [
    "thetwo = pd.concat([bbb, lll], axis=1, join='outer')"
   ]
  },
  {
   "cell_type": "code",
   "execution_count": 107,
   "metadata": {},
   "outputs": [],
   "source": [
    "thetwo.fillna(value=0, inplace=True)"
   ]
  },
  {
   "cell_type": "code",
   "execution_count": 108,
   "metadata": {},
   "outputs": [
    {
     "data": {
      "text/html": [
       "<div>\n",
       "<style scoped>\n",
       "    .dataframe tbody tr th:only-of-type {\n",
       "        vertical-align: middle;\n",
       "    }\n",
       "\n",
       "    .dataframe tbody tr th {\n",
       "        vertical-align: top;\n",
       "    }\n",
       "\n",
       "    .dataframe thead th {\n",
       "        text-align: right;\n",
       "    }\n",
       "</style>\n",
       "<table border=\"1\" class=\"dataframe\">\n",
       "  <thead>\n",
       "    <tr style=\"text-align: right;\">\n",
       "      <th></th>\n",
       "      <th>ds</th>\n",
       "      <th>y</th>\n",
       "      <th>ds2</th>\n",
       "      <th>yhat</th>\n",
       "      <th>pdiff</th>\n",
       "      <th>rdiff</th>\n",
       "      <th>ds</th>\n",
       "      <th>y</th>\n",
       "      <th>ds2</th>\n",
       "      <th>yhat</th>\n",
       "      <th>pdiff</th>\n",
       "      <th>rdiff</th>\n",
       "    </tr>\n",
       "  </thead>\n",
       "  <tbody>\n",
       "    <tr>\n",
       "      <th>2017-10-09</th>\n",
       "      <td>0</td>\n",
       "      <td>0.0</td>\n",
       "      <td>0</td>\n",
       "      <td>0.0</td>\n",
       "      <td>0.0</td>\n",
       "      <td>0.0</td>\n",
       "      <td>2017-10-09 14:00:00</td>\n",
       "      <td>8.448272</td>\n",
       "      <td>2017-10-09 14:00:00</td>\n",
       "      <td>8.428668</td>\n",
       "      <td>-0.019604</td>\n",
       "      <td>0.027516</td>\n",
       "    </tr>\n",
       "    <tr>\n",
       "      <th>2017-10-10</th>\n",
       "      <td>0</td>\n",
       "      <td>0.0</td>\n",
       "      <td>0</td>\n",
       "      <td>0.0</td>\n",
       "      <td>0.0</td>\n",
       "      <td>0.0</td>\n",
       "      <td>2017-10-10 00:00:00</td>\n",
       "      <td>8.493515</td>\n",
       "      <td>2017-10-10 00:00:00</td>\n",
       "      <td>8.435444</td>\n",
       "      <td>-0.058071</td>\n",
       "      <td>-0.026479</td>\n",
       "    </tr>\n",
       "    <tr>\n",
       "      <th>2017-10-11</th>\n",
       "      <td>0</td>\n",
       "      <td>0.0</td>\n",
       "      <td>0</td>\n",
       "      <td>0.0</td>\n",
       "      <td>0.0</td>\n",
       "      <td>0.0</td>\n",
       "      <td>2017-10-11 00:00:00</td>\n",
       "      <td>8.467036</td>\n",
       "      <td>2017-10-11 00:00:00</td>\n",
       "      <td>8.452177</td>\n",
       "      <td>-0.014859</td>\n",
       "      <td>0.018460</td>\n",
       "    </tr>\n",
       "    <tr>\n",
       "      <th>2017-10-12</th>\n",
       "      <td>0</td>\n",
       "      <td>0.0</td>\n",
       "      <td>0</td>\n",
       "      <td>0.0</td>\n",
       "      <td>0.0</td>\n",
       "      <td>0.0</td>\n",
       "      <td>2017-10-12 00:00:00</td>\n",
       "      <td>8.485496</td>\n",
       "      <td>2017-10-12 00:00:00</td>\n",
       "      <td>8.469705</td>\n",
       "      <td>-0.015791</td>\n",
       "      <td>0.105579</td>\n",
       "    </tr>\n",
       "    <tr>\n",
       "      <th>2017-10-13</th>\n",
       "      <td>0</td>\n",
       "      <td>0.0</td>\n",
       "      <td>0</td>\n",
       "      <td>0.0</td>\n",
       "      <td>0.0</td>\n",
       "      <td>0.0</td>\n",
       "      <td>2017-10-13 00:00:00</td>\n",
       "      <td>8.591075</td>\n",
       "      <td>2017-10-13 00:00:00</td>\n",
       "      <td>8.477474</td>\n",
       "      <td>-0.113602</td>\n",
       "      <td>0.038017</td>\n",
       "    </tr>\n",
       "  </tbody>\n",
       "</table>\n",
       "</div>"
      ],
      "text/plain": [
       "           ds    y ds2  yhat  pdiff  rdiff                   ds         y  \\\n",
       "2017-10-09  0  0.0   0   0.0    0.0    0.0  2017-10-09 14:00:00  8.448272   \n",
       "2017-10-10  0  0.0   0   0.0    0.0    0.0  2017-10-10 00:00:00  8.493515   \n",
       "2017-10-11  0  0.0   0   0.0    0.0    0.0  2017-10-11 00:00:00  8.467036   \n",
       "2017-10-12  0  0.0   0   0.0    0.0    0.0  2017-10-12 00:00:00  8.485496   \n",
       "2017-10-13  0  0.0   0   0.0    0.0    0.0  2017-10-13 00:00:00  8.591075   \n",
       "\n",
       "                            ds2      yhat     pdiff     rdiff  \n",
       "2017-10-09  2017-10-09 14:00:00  8.428668 -0.019604  0.027516  \n",
       "2017-10-10  2017-10-10 00:00:00  8.435444 -0.058071 -0.026479  \n",
       "2017-10-11  2017-10-11 00:00:00  8.452177 -0.014859  0.018460  \n",
       "2017-10-12  2017-10-12 00:00:00  8.469705 -0.015791  0.105579  \n",
       "2017-10-13  2017-10-13 00:00:00  8.477474 -0.113602  0.038017  "
      ]
     },
     "execution_count": 108,
     "metadata": {},
     "output_type": "execute_result"
    }
   ],
   "source": [
    "thetwo.head()"
   ]
  },
  {
   "cell_type": "code",
   "execution_count": 109,
   "metadata": {},
   "outputs": [],
   "source": [
    "thetwo.columns=range(12)"
   ]
  },
  {
   "cell_type": "code",
   "execution_count": 110,
   "metadata": {},
   "outputs": [],
   "source": [
    "thetwotwo = thetwo[[5, 11]]"
   ]
  },
  {
   "cell_type": "code",
   "execution_count": 111,
   "metadata": {
    "scrolled": true
   },
   "outputs": [
    {
     "data": {
      "text/html": [
       "<div>\n",
       "<style scoped>\n",
       "    .dataframe tbody tr th:only-of-type {\n",
       "        vertical-align: middle;\n",
       "    }\n",
       "\n",
       "    .dataframe tbody tr th {\n",
       "        vertical-align: top;\n",
       "    }\n",
       "\n",
       "    .dataframe thead th {\n",
       "        text-align: right;\n",
       "    }\n",
       "</style>\n",
       "<table border=\"1\" class=\"dataframe\">\n",
       "  <thead>\n",
       "    <tr style=\"text-align: right;\">\n",
       "      <th></th>\n",
       "      <th>5</th>\n",
       "      <th>11</th>\n",
       "    </tr>\n",
       "  </thead>\n",
       "  <tbody>\n",
       "    <tr>\n",
       "      <th>2017-10-09</th>\n",
       "      <td>0.0</td>\n",
       "      <td>0.027516</td>\n",
       "    </tr>\n",
       "    <tr>\n",
       "      <th>2017-10-10</th>\n",
       "      <td>0.0</td>\n",
       "      <td>-0.026479</td>\n",
       "    </tr>\n",
       "    <tr>\n",
       "      <th>2017-10-11</th>\n",
       "      <td>0.0</td>\n",
       "      <td>0.018460</td>\n",
       "    </tr>\n",
       "    <tr>\n",
       "      <th>2017-10-12</th>\n",
       "      <td>0.0</td>\n",
       "      <td>0.105579</td>\n",
       "    </tr>\n",
       "    <tr>\n",
       "      <th>2017-10-13</th>\n",
       "      <td>0.0</td>\n",
       "      <td>0.038017</td>\n",
       "    </tr>\n",
       "  </tbody>\n",
       "</table>\n",
       "</div>"
      ],
      "text/plain": [
       "             5         11\n",
       "2017-10-09  0.0  0.027516\n",
       "2017-10-10  0.0 -0.026479\n",
       "2017-10-11  0.0  0.018460\n",
       "2017-10-12  0.0  0.105579\n",
       "2017-10-13  0.0  0.038017"
      ]
     },
     "execution_count": 111,
     "metadata": {},
     "output_type": "execute_result"
    }
   ],
   "source": [
    "thetwotwo.head()"
   ]
  },
  {
   "cell_type": "code",
   "execution_count": 112,
   "metadata": {},
   "outputs": [
    {
     "name": "stderr",
     "output_type": "stream",
     "text": [
      "C:\\ProgramData\\Anaconda3\\envs\\proph\\lib\\site-packages\\ipykernel_launcher.py:1: SettingWithCopyWarning: \n",
      "A value is trying to be set on a copy of a slice from a DataFrame.\n",
      "Try using .loc[row_indexer,col_indexer] = value instead\n",
      "\n",
      "See the caveats in the documentation: http://pandas.pydata.org/pandas-docs/stable/indexing.html#indexing-view-versus-copy\n",
      "  \"\"\"Entry point for launching an IPython kernel.\n"
     ]
    }
   ],
   "source": [
    "thetwotwo[11]= - thetwotwo[11]"
   ]
  },
  {
   "cell_type": "code",
   "execution_count": 114,
   "metadata": {},
   "outputs": [],
   "source": [
    "thetwotwo.columns =['up', 'down']"
   ]
  },
  {
   "cell_type": "code",
   "execution_count": 115,
   "metadata": {},
   "outputs": [
    {
     "name": "stderr",
     "output_type": "stream",
     "text": [
      "C:\\ProgramData\\Anaconda3\\envs\\proph\\lib\\site-packages\\ipykernel_launcher.py:1: SettingWithCopyWarning: \n",
      "A value is trying to be set on a copy of a slice from a DataFrame.\n",
      "Try using .loc[row_indexer,col_indexer] = value instead\n",
      "\n",
      "See the caveats in the documentation: http://pandas.pydata.org/pandas-docs/stable/indexing.html#indexing-view-versus-copy\n",
      "  \"\"\"Entry point for launching an IPython kernel.\n"
     ]
    }
   ],
   "source": [
    "thetwotwo['both']=thetwotwo.up + thetwotwo.down"
   ]
  },
  {
   "cell_type": "code",
   "execution_count": 116,
   "metadata": {},
   "outputs": [
    {
     "name": "stderr",
     "output_type": "stream",
     "text": [
      "C:\\ProgramData\\Anaconda3\\envs\\proph\\lib\\site-packages\\ipykernel_launcher.py:1: SettingWithCopyWarning: \n",
      "A value is trying to be set on a copy of a slice from a DataFrame.\n",
      "Try using .loc[row_indexer,col_indexer] = value instead\n",
      "\n",
      "See the caveats in the documentation: http://pandas.pydata.org/pandas-docs/stable/indexing.html#indexing-view-versus-copy\n",
      "  \"\"\"Entry point for launching an IPython kernel.\n"
     ]
    }
   ],
   "source": [
    "thetwotwo['ret'] = thetwotwo.both.cumsum()"
   ]
  },
  {
   "cell_type": "code",
   "execution_count": 117,
   "metadata": {},
   "outputs": [
    {
     "data": {
      "text/plain": [
       "<matplotlib.axes._subplots.AxesSubplot at 0x20b382b3cf8>"
      ]
     },
     "execution_count": 117,
     "metadata": {},
     "output_type": "execute_result"
    },
    {
     "data": {
      "image/png": "[encoded data removed]",
      "text/plain": [
       "<Figure size 432x288 with 1 Axes>"
      ]
     },
     "metadata": {
      "needs_background": "light"
     },
     "output_type": "display_data"
    }
   ],
   "source": [
    "thetwotwo.ret.plot()"
   ]
  },
  {
   "cell_type": "code",
   "execution_count": 118,
   "metadata": {},
   "outputs": [
    {
     "data": {
      "text/html": [
       "<div>\n",
       "<style scoped>\n",
       "    .dataframe tbody tr th:only-of-type {\n",
       "        vertical-align: middle;\n",
       "    }\n",
       "\n",
       "    .dataframe tbody tr th {\n",
       "        vertical-align: top;\n",
       "    }\n",
       "\n",
       "    .dataframe thead th {\n",
       "        text-align: right;\n",
       "    }\n",
       "</style>\n",
       "<table border=\"1\" class=\"dataframe\">\n",
       "  <thead>\n",
       "    <tr style=\"text-align: right;\">\n",
       "      <th></th>\n",
       "      <th>up</th>\n",
       "      <th>down</th>\n",
       "      <th>both</th>\n",
       "      <th>ret</th>\n",
       "    </tr>\n",
       "  </thead>\n",
       "  <tbody>\n",
       "    <tr>\n",
       "      <th>count</th>\n",
       "      <td>544.000000</td>\n",
       "      <td>544.000000</td>\n",
       "      <td>544.000000</td>\n",
       "      <td>544.000000</td>\n",
       "    </tr>\n",
       "    <tr>\n",
       "      <th>mean</th>\n",
       "      <td>0.003167</td>\n",
       "      <td>0.003276</td>\n",
       "      <td>0.006443</td>\n",
       "      <td>2.322262</td>\n",
       "    </tr>\n",
       "    <tr>\n",
       "      <th>std</th>\n",
       "      <td>0.033616</td>\n",
       "      <td>0.034600</td>\n",
       "      <td>0.045753</td>\n",
       "      <td>1.082314</td>\n",
       "    </tr>\n",
       "    <tr>\n",
       "      <th>min</th>\n",
       "      <td>-0.163330</td>\n",
       "      <td>-0.194997</td>\n",
       "      <td>-0.194997</td>\n",
       "      <td>-0.202214</td>\n",
       "    </tr>\n",
       "    <tr>\n",
       "      <th>25%</th>\n",
       "      <td>0.000000</td>\n",
       "      <td>0.000000</td>\n",
       "      <td>-0.015147</td>\n",
       "      <td>1.627571</td>\n",
       "    </tr>\n",
       "    <tr>\n",
       "      <th>50%</th>\n",
       "      <td>0.000000</td>\n",
       "      <td>-0.000000</td>\n",
       "      <td>0.004210</td>\n",
       "      <td>2.661822</td>\n",
       "    </tr>\n",
       "    <tr>\n",
       "      <th>75%</th>\n",
       "      <td>0.009289</td>\n",
       "      <td>0.002799</td>\n",
       "      <td>0.027199</td>\n",
       "      <td>3.164604</td>\n",
       "    </tr>\n",
       "    <tr>\n",
       "      <th>max</th>\n",
       "      <td>0.131653</td>\n",
       "      <td>0.193751</td>\n",
       "      <td>0.230570</td>\n",
       "      <td>3.619172</td>\n",
       "    </tr>\n",
       "  </tbody>\n",
       "</table>\n",
       "</div>"
      ],
      "text/plain": [
       "               up        down        both         ret\n",
       "count  544.000000  544.000000  544.000000  544.000000\n",
       "mean     0.003167    0.003276    0.006443    2.322262\n",
       "std      0.033616    0.034600    0.045753    1.082314\n",
       "min     -0.163330   -0.194997   -0.194997   -0.202214\n",
       "25%      0.000000    0.000000   -0.015147    1.627571\n",
       "50%      0.000000   -0.000000    0.004210    2.661822\n",
       "75%      0.009289    0.002799    0.027199    3.164604\n",
       "max      0.131653    0.193751    0.230570    3.619172"
      ]
     },
     "execution_count": 118,
     "metadata": {},
     "output_type": "execute_result"
    }
   ],
   "source": [
    "thetwotwo.describe()"
   ]
  },
  {
   "cell_type": "code",
   "execution_count": 119,
   "metadata": {},
   "outputs": [],
   "source": [
    "def drawdown(s):\n",
    "    return np.min(s-s.cummax())"
   ]
  },
  {
   "cell_type": "code",
   "execution_count": 120,
   "metadata": {},
   "outputs": [
    {
     "data": {
      "text/plain": [
       "-0.3938998194487944"
      ]
     },
     "execution_count": 120,
     "metadata": {},
     "output_type": "execute_result"
    }
   ],
   "source": [
    "drawdown(thetwotwo.both)"
   ]
  },
  {
   "cell_type": "code",
   "execution_count": 121,
   "metadata": {},
   "outputs": [
    {
     "data": {
      "text/plain": [
       "2.643478260869565"
      ]
     },
     "execution_count": 121,
     "metadata": {},
     "output_type": "execute_result"
    }
   ],
   "source": [
    "0.0064*19/0.046"
   ]
  },
  {
   "cell_type": "code",
   "execution_count": null,
   "metadata": {},
   "outputs": [],
   "source": []
  }
 ],
 "metadata": {
  "kernelspec": {
   "display_name": "prophet",
   "language": "python",
   "name": "prophet"
  },
  "language_info": {
   "codemirror_mode": {
    "name": "ipython",
    "version": 3
   },
   "file_extension": ".py",
   "mimetype": "text/x-python",
   "name": "python",
   "nbconvert_exporter": "python",
   "pygments_lexer": "ipython3",
   "version": "3.6.7"
  }
 },
 "nbformat": 4,
 "nbformat_minor": 2
}
