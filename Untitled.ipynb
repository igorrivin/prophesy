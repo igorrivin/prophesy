{
 "cells": [
  {
   "cell_type": "code",
   "execution_count": 1,
   "metadata": {},
   "outputs": [],
   "source": [
    "from prostrat import *"
   ]
  },
  {
   "cell_type": "code",
   "execution_count": 3,
   "metadata": {},
   "outputs": [],
   "source": [
    "util.startLoop()"
   ]
  },
  {
   "cell_type": "code",
   "execution_count": 4,
   "metadata": {},
   "outputs": [
    {
     "name": "stderr",
     "output_type": "stream",
     "text": [
      "INFO:ib_insync.client:Connecting to 127.0.0.1:7497 with clientId 17...\n",
      "INFO:ib_insync.client:Connected\n",
      "INFO:ib_insync.client:Logged on to server version 151\n",
      "INFO:ib_insync.wrapper:Warning 2104, reqId -1: Market data farm connection is OK:hfarm\n",
      "INFO:ib_insync.wrapper:Warning 2104, reqId -1: Market data farm connection is OK:usfarm.nj\n",
      "INFO:ib_insync.wrapper:Warning 2104, reqId -1: Market data farm connection is OK:jfarm\n",
      "INFO:ib_insync.wrapper:Warning 2104, reqId -1: Market data farm connection is OK:eufarm\n",
      "INFO:ib_insync.wrapper:Warning 2104, reqId -1: Market data farm connection is OK:usfuture\n",
      "INFO:ib_insync.wrapper:Warning 2104, reqId -1: Market data farm connection is OK:cashfarm\n",
      "INFO:ib_insync.wrapper:Warning 2104, reqId -1: Market data farm connection is OK:usfarm\n",
      "INFO:ib_insync.wrapper:Warning 2106, reqId -1: HMDS data farm connection is OK:euhmds\n",
      "INFO:ib_insync.wrapper:Warning 2106, reqId -1: HMDS data farm connection is OK:fundfarm\n",
      "INFO:ib_insync.wrapper:Warning 2106, reqId -1: HMDS data farm connection is OK:ushmds\n",
      "INFO:ib_insync.client:API connection ready\n",
      "INFO:ib_insync.wrapper:updatePortfolio: PortfolioItem(contract=Stock(conId=265655, symbol='ABMD', right='0', primaryExchange='NASDAQ', currency='USD', localSymbol='ABMD', tradingClass='NMS'), position=-400.0, marketPrice=274.91000365, marketValue=-109964.0, averageCost=274.6941945, unrealizedPNL=-86.32, realizedPNL=0.0, account='DU1131437')\n",
      "INFO:ib_insync.wrapper:updatePortfolio: PortfolioItem(contract=Stock(conId=173962302, symbol='ANTM', right='0', primaryExchange='NYSE', currency='USD', localSymbol='ANTM', tradingClass='ANTM'), position=-400.0, marketPrice=266.4299927, marketValue=-106572.0, averageCost=265.2793895, unrealizedPNL=-460.24, realizedPNL=0.0, account='DU1131437')\n",
      "INFO:ib_insync.wrapper:updatePortfolio: PortfolioItem(contract=Stock(conId=4472, symbol='APA', right='0', primaryExchange='NYSE', currency='USD', localSymbol='APA', tradingClass='APA'), position=3100.0, marketPrice=33.0099983, marketValue=102330.99, averageCost=32.835, unrealizedPNL=542.49, realizedPNL=0.0, account='DU1131437')\n",
      "INFO:ib_insync.wrapper:updatePortfolio: PortfolioItem(contract=Stock(conId=4482, symbol='APC', right='0', primaryExchange='NYSE', currency='USD', localSymbol='APC', tradingClass='APC'), position=-1400.0, marketPrice=72.80000305, marketValue=-101920.0, averageCost=72.63337735, unrealizedPNL=-233.28, realizedPNL=0.0, account='DU1131437')\n",
      "INFO:ib_insync.wrapper:updatePortfolio: PortfolioItem(contract=Stock(conId=26734397, symbol='BIIB', right='0', primaryExchange='NASDAQ', currency='USD', localSymbol='BIIB', tradingClass='NMS'), position=-500.0, marketPrice=230.0, marketValue=-115000.0, averageCost=229.6761264, unrealizedPNL=-161.94, realizedPNL=0.0, account='DU1131437')\n",
      "INFO:ib_insync.wrapper:updatePortfolio: PortfolioItem(contract=Stock(conId=267661, symbol='CINF', right='0', primaryExchange='NASDAQ', currency='USD', localSymbol='CINF', tradingClass='NMS'), position=-1100.0, marketPrice=94.19999695, marketValue=-103620.0, averageCost=93.9892989, unrealizedPNL=-231.77, realizedPNL=0.0, account='DU1131437')\n",
      "INFO:ib_insync.wrapper:updatePortfolio: PortfolioItem(contract=Stock(conId=6890, symbol='EOG', right='0', primaryExchange='NYSE', currency='USD', localSymbol='EOG', tradingClass='EOG'), position=100.0, marketPrice=98.08000185, marketValue=9808.0, averageCost=97.5, unrealizedPNL=58.0, realizedPNL=0.0, account='DU1131437')\n",
      "INFO:ib_insync.wrapper:updatePortfolio: PortfolioItem(contract=Stock(conId=9599491, symbol='F', right='0', primaryExchange='NYSE', currency='USD', localSymbol='F', tradingClass='F'), position=-10000.0, marketPrice=10.3699999, marketValue=-103700.0, averageCost=10.33466695, unrealizedPNL=-353.33, realizedPNL=0.0, account='DU1131437')\n",
      "INFO:ib_insync.wrapper:updatePortfolio: PortfolioItem(contract=Stock(conId=5100583, symbol='FDX', right='0', primaryExchange='NYSE', currency='USD', localSymbol='FDX', tradingClass='FDX'), position=600.0, marketPrice=184.0399933, marketValue=110424.0, averageCost=183.095, unrealizedPNL=567.0, realizedPNL=0.0, account='DU1131437')\n",
      "INFO:ib_insync.wrapper:updatePortfolio: PortfolioItem(contract=Stock(conId=270639, symbol='INTC', right='0', primaryExchange='NASDAQ', currency='USD', localSymbol='INTC', tradingClass='NMS'), position=2000.0, marketPrice=52.52000045, marketValue=105040.0, averageCost=51.735, unrealizedPNL=1570.0, realizedPNL=0.0, account='DU1131437')\n",
      "INFO:ib_insync.wrapper:updatePortfolio: PortfolioItem(contract=Stock(conId=180350774, symbol='IRM', right='0', primaryExchange='NYSE', currency='USD', localSymbol='IRM', tradingClass='IRM'), position=3100.0, marketPrice=32.5, marketValue=100750.0, averageCost=32.305, unrealizedPNL=604.5, realizedPNL=0.0, account='DU1131437')\n",
      "INFO:ib_insync.wrapper:updatePortfolio: PortfolioItem(contract=Stock(conId=8809, symbol='KEY', right='0', primaryExchange='NYSE', currency='USD', localSymbol='KEY', tradingClass='KEY'), position=-6000.0, marketPrice=17.28240015, marketValue=-103694.4, averageCost=17.17452535, unrealizedPNL=-647.25, realizedPNL=0.0, account='DU1131437')\n",
      "INFO:ib_insync.wrapper:updatePortfolio: PortfolioItem(contract=Stock(conId=9720, symbol='MMM', right='0', primaryExchange='NYSE', currency='USD', localSymbol='MMM', tradingClass='MMM'), position=600.0, marketPrice=191.6000061, marketValue=114960.0, averageCost=190.83333335, unrealizedPNL=460.0, realizedPNL=0.0, account='DU1131437')\n",
      "INFO:ib_insync.wrapper:updatePortfolio: PortfolioItem(contract=Stock(conId=196986496, symbol='MNST', right='0', primaryExchange='NASDAQ', currency='USD', localSymbol='MNST', tradingClass='NMS'), position=-1900.0, marketPrice=59.65999985, marketValue=-113354.0, averageCost=59.0436587, unrealizedPNL=-1171.05, realizedPNL=0.0, account='DU1131437')\n",
      "INFO:ib_insync.wrapper:updatePortfolio: PortfolioItem(contract=Stock(conId=4815747, symbol='NVDA', right='0', primaryExchange='NASDAQ', currency='USD', localSymbol='NVDA', tradingClass='NMS'), position=600.0, marketPrice=177.8999939, marketValue=106740.0, averageCost=176.2562, unrealizedPNL=986.28, realizedPNL=0.0, account='DU1131437')\n",
      "INFO:ib_insync.wrapper:updatePortfolio: PortfolioItem(contract=Stock(conId=273544, symbol='QCOM', right='0', primaryExchange='NASDAQ', currency='USD', localSymbol='QCOM', tradingClass='NMS'), position=-1200.0, marketPrice=86.87000275, marketValue=-104244.0, averageCost=86.223096, unrealizedPNL=-776.29, realizedPNL=0.0, account='DU1131437')\n",
      "INFO:ib_insync.wrapper:updatePortfolio: PortfolioItem(contract=Stock(conId=273815, symbol='RF', right='0', primaryExchange='NYSE', currency='USD', localSymbol='RF', tradingClass='RF'), position=-7000.0, marketPrice=15.5500002, marketValue=-108850.0, averageCost=15.51455975, unrealizedPNL=-248.08, realizedPNL=0.0, account='DU1131437')\n",
      "INFO:ib_insync.wrapper:updatePortfolio: PortfolioItem(contract=Stock(conId=76915240, symbol='STX', right='0', primaryExchange='NASDAQ', currency='USD', localSymbol='STX', tradingClass='NMS'), position=2200.0, marketPrice=44.9830017, marketValue=98962.6, averageCost=44.84, unrealizedPNL=314.6, realizedPNL=0.0, account='DU1131437')\n",
      "INFO:ib_insync.wrapper:updatePortfolio: PortfolioItem(contract=Stock(conId=6231002, symbol='UPS', right='0', primaryExchange='NYSE', currency='USD', localSymbol='UPS', tradingClass='UPS'), position=1000.0, marketPrice=103.91000365, marketValue=103910.0, averageCost=103.285, unrealizedPNL=625.0, realizedPNL=0.0, account='DU1131437')\n",
      "INFO:ib_insync.wrapper:updatePortfolio: PortfolioItem(contract=Forex('USDCHF', conId=12087820, right='0', primaryExchange='IDEALPRO', localSymbol='USD.CHF', tradingClass='USD.CHF'), position=-25000.0, marketPrice=1.01952005, marketValue=-25488.0, averageCost=1.01618, unrealizedPNL=-83.5, realizedPNL=0.0, account='DU1131437')\n",
      "INFO:ib_insync.wrapper:updatePortfolio: PortfolioItem(contract=Stock(conId=276222, symbol='XLNX', right='0', primaryExchange='NASDAQ', currency='USD', localSymbol='XLNX', tradingClass='NMS'), position=900.0, marketPrice=119.0400009, marketValue=107136.0, averageCost=117.785, unrealizedPNL=1129.5, realizedPNL=0.0, account='DU1131437')\n",
      "INFO:ib_insync.wrapper:position: Position(account='DU1131437', contract=Stock(conId=199169586, symbol='KHC', exchange='NASDAQ', currency='USD', localSymbol='KHC', tradingClass='NMS'), position=0.0, avgCost=0.0)\n"
     ]
    },
    {
     "name": "stderr",
     "output_type": "stream",
     "text": [
      "INFO:ib_insync.wrapper:position: Position(account='DU1131437', contract=Stock(conId=6890, symbol='EOG', exchange='NYSE', currency='USD', localSymbol='EOG', tradingClass='EOG'), position=100.0, avgCost=97.5)\n",
      "INFO:ib_insync.wrapper:position: Position(account='DU1131437', contract=Stock(conId=5100583, symbol='FDX', exchange='NYSE', currency='USD', localSymbol='FDX', tradingClass='FDX'), position=600.0, avgCost=183.095)\n",
      "INFO:ib_insync.wrapper:position: Position(account='DU1131437', contract=Stock(conId=137780444, symbol='TWTR', exchange='NYSE', currency='USD', localSymbol='TWTR', tradingClass='TWTR'), position=0.0, avgCost=0.0)\n",
      "INFO:ib_insync.wrapper:position: Position(account='DU1131437', contract=Stock(conId=8809, symbol='KEY', exchange='NYSE', currency='USD', localSymbol='KEY', tradingClass='KEY'), position=-6000.0, avgCost=17.17452535)\n",
      "INFO:ib_insync.wrapper:position: Position(account='DU1131437', contract=Stock(conId=356576040, symbol='DOW', exchange='NYSE', currency='USD', localSymbol='DOW', tradingClass='DOW'), position=0.0, avgCost=0.0)\n",
      "INFO:ib_insync.wrapper:position: Position(account='DU1131437', contract=Stock(conId=173962302, symbol='ANTM', exchange='NYSE', currency='USD', localSymbol='ANTM', tradingClass='ANTM'), position=-400.0, avgCost=265.2793895)\n",
      "INFO:ib_insync.wrapper:position: Position(account='DU1131437', contract=Stock(conId=7935, symbol='HOG', exchange='NYSE', currency='USD', localSymbol='HOG', tradingClass='HOG'), position=0.0, avgCost=0.0)\n",
      "INFO:ib_insync.wrapper:position: Position(account='DU1131437', contract=Stock(conId=276222, symbol='XLNX', exchange='NASDAQ', currency='USD', localSymbol='XLNX', tradingClass='NMS'), position=900.0, avgCost=117.785)\n",
      "INFO:ib_insync.wrapper:position: Position(account='DU1131437', contract=Stock(conId=4472, symbol='APA', exchange='NYSE', currency='USD', localSymbol='APA', tradingClass='APA'), position=3100.0, avgCost=32.835)\n",
      "INFO:ib_insync.wrapper:position: Position(account='DU1131437', contract=Stock(conId=9720, symbol='MMM', exchange='NYSE', currency='USD', localSymbol='MMM', tradingClass='MMM'), position=600.0, avgCost=190.83333335)\n",
      "INFO:ib_insync.wrapper:position: Position(account='DU1131437', contract=Stock(conId=4815747, symbol='NVDA', exchange='NASDAQ', currency='USD', localSymbol='NVDA', tradingClass='NMS'), position=600.0, avgCost=176.2562)\n",
      "INFO:ib_insync.wrapper:position: Position(account='DU1131437', contract=Stock(conId=270639, symbol='INTC', exchange='NASDAQ', currency='USD', localSymbol='INTC', tradingClass='NMS'), position=2000.0, avgCost=51.735)\n",
      "INFO:ib_insync.wrapper:position: Position(account='DU1131437', contract=Stock(conId=26734397, symbol='BIIB', exchange='NASDAQ', currency='USD', localSymbol='BIIB', tradingClass='NMS'), position=-500.0, avgCost=229.6761264)\n",
      "INFO:ib_insync.wrapper:position: Position(account='DU1131437', contract=Stock(conId=10174, symbol='NEM', exchange='NYSE', currency='USD', localSymbol='NEM', tradingClass='NEM'), position=0.0, avgCost=0.0)\n",
      "INFO:ib_insync.wrapper:position: Position(account='DU1131437', contract=Stock(conId=76915240, symbol='STX', exchange='NASDAQ', currency='USD', localSymbol='STX', tradingClass='NMS'), position=2200.0, avgCost=44.84)\n",
      "INFO:ib_insync.wrapper:position: Position(account='DU1131437', contract=Stock(conId=196986496, symbol='MNST', exchange='NASDAQ', currency='USD', localSymbol='MNST', tradingClass='NMS'), position=-1900.0, avgCost=59.0436587)\n",
      "INFO:ib_insync.wrapper:position: Position(account='DU1131437', contract=Stock(conId=1448494, symbol='WAT', exchange='NYSE', currency='USD', localSymbol='WAT', tradingClass='WAT'), position=0.0, avgCost=0.0)\n",
      "INFO:ib_insync.wrapper:position: Position(account='DU1131437', contract=Forex('USDCHF', conId=12087820, localSymbol='USD.CHF', tradingClass='USD.CHF'), position=-25000.0, avgCost=1.01618)\n",
      "INFO:ib_insync.wrapper:position: Position(account='DU1131437', contract=Stock(conId=11700, symbol='ROL', exchange='NYSE', currency='USD', localSymbol='ROL', tradingClass='ROL'), position=0.0, avgCost=0.0)\n",
      "INFO:ib_insync.wrapper:position: Position(account='DU1131437', contract=Stock(conId=265655, symbol='ABMD', exchange='NASDAQ', currency='USD', localSymbol='ABMD', tradingClass='NMS'), position=-400.0, avgCost=274.6941945)\n",
      "INFO:ib_insync.wrapper:position: Position(account='DU1131437', contract=Stock(conId=273544, symbol='QCOM', exchange='NASDAQ', currency='USD', localSymbol='QCOM', tradingClass='NMS'), position=-1200.0, avgCost=86.223096)\n",
      "INFO:ib_insync.wrapper:position: Position(account='DU1131437', contract=Stock(conId=267661, symbol='CINF', exchange='NASDAQ', currency='USD', localSymbol='CINF', tradingClass='NMS'), position=-1100.0, avgCost=93.9892989)\n",
      "INFO:ib_insync.wrapper:position: Position(account='DU1131437', contract=Stock(conId=180350774, symbol='IRM', exchange='NYSE', currency='USD', localSymbol='IRM', tradingClass='IRM'), position=3100.0, avgCost=32.305)\n",
      "INFO:ib_insync.wrapper:position: Position(account='DU1131437', contract=Stock(conId=754956, symbol='HAS', exchange='NASDAQ', currency='USD', localSymbol='HAS', tradingClass='NMS'), position=0.0, avgCost=0.0)\n",
      "INFO:ib_insync.wrapper:position: Position(account='DU1131437', contract=Stock(conId=6231002, symbol='UPS', exchange='NYSE', currency='USD', localSymbol='UPS', tradingClass='UPS'), position=1000.0, avgCost=103.285)\n",
      "INFO:ib_insync.wrapper:position: Position(account='DU1131437', contract=Stock(conId=4482, symbol='APC', exchange='NYSE', currency='USD', localSymbol='APC', tradingClass='APC'), position=-1400.0, avgCost=72.63337735)\n",
      "INFO:ib_insync.wrapper:position: Position(account='DU1131437', contract=Stock(conId=273815, symbol='RF', exchange='NYSE', currency='USD', localSymbol='RF', tradingClass='RF'), position=-7000.0, avgCost=15.51455975)\n",
      "INFO:ib_insync.wrapper:position: Position(account='DU1131437', contract=Stock(conId=9599491, symbol='F', exchange='NYSE', currency='USD', localSymbol='F', tradingClass='F'), position=-10000.0, avgCost=10.33466695)\n",
      "INFO:ib_insync.ib:Synchronization complete\n",
      "INFO:ib_insync.wrapper:updatePortfolio: PortfolioItem(contract=Stock(conId=9720, symbol='MMM', right='0', primaryExchange='NYSE', currency='USD', localSymbol='MMM', tradingClass='MMM'), position=600.0, marketPrice=191.6000061, marketValue=114960.0, averageCost=190.83333335, unrealizedPNL=460.0, realizedPNL=0.0, account='DU1131437')\n",
      "INFO:ib_insync.wrapper:updatePortfolio: PortfolioItem(contract=Stock(conId=265655, symbol='ABMD', right='0', primaryExchange='NASDAQ', currency='USD', localSymbol='ABMD', tradingClass='NMS'), position=-400.0, marketPrice=274.91000365, marketValue=-109964.0, averageCost=274.6941945, unrealizedPNL=-86.32, realizedPNL=0.0, account='DU1131437')\n",
      "INFO:ib_insync.wrapper:updatePortfolio: PortfolioItem(contract=Stock(conId=273544, symbol='QCOM', right='0', primaryExchange='NASDAQ', currency='USD', localSymbol='QCOM', tradingClass='NMS'), position=-1200.0, marketPrice=86.87000275, marketValue=-104244.0, averageCost=86.223096, unrealizedPNL=-776.29, realizedPNL=0.0, account='DU1131437')\n",
      "INFO:ib_insync.wrapper:updatePortfolio: PortfolioItem(contract=Stock(conId=276222, symbol='XLNX', right='0', primaryExchange='NASDAQ', currency='USD', localSymbol='XLNX', tradingClass='NMS'), position=900.0, marketPrice=119.0400009, marketValue=107136.0, averageCost=117.785, unrealizedPNL=1129.5, realizedPNL=0.0, account='DU1131437')\n",
      "INFO:ib_insync.wrapper:updatePortfolio: PortfolioItem(contract=Stock(conId=4815747, symbol='NVDA', right='0', primaryExchange='NASDAQ', currency='USD', localSymbol='NVDA', tradingClass='NMS'), position=600.0, marketPrice=177.8999939, marketValue=106740.0, averageCost=176.2562, unrealizedPNL=986.28, realizedPNL=0.0, account='DU1131437')\n",
      "INFO:ib_insync.wrapper:updatePortfolio: PortfolioItem(contract=Stock(conId=5100583, symbol='FDX', right='0', primaryExchange='NYSE', currency='USD', localSymbol='FDX', tradingClass='FDX'), position=600.0, marketPrice=184.0399933, marketValue=110424.0, averageCost=183.095, unrealizedPNL=567.0, realizedPNL=0.0, account='DU1131437')\n",
      "INFO:ib_insync.wrapper:updatePortfolio: PortfolioItem(contract=Forex('USDCHF', conId=12087820, right='0', primaryExchange='IDEALPRO', localSymbol='USD.CHF', tradingClass='USD.CHF'), position=-25000.0, marketPrice=1.01955495, marketValue=-25488.87, averageCost=1.01618, unrealizedPNL=-84.37, realizedPNL=0.0, account='DU1131437')\n"
     ]
    },
    {
     "name": "stderr",
     "output_type": "stream",
     "text": [
      "INFO:ib_insync.wrapper:updatePortfolio: PortfolioItem(contract=Stock(conId=26734397, symbol='BIIB', right='0', primaryExchange='NASDAQ', currency='USD', localSymbol='BIIB', tradingClass='NMS'), position=-500.0, marketPrice=230.0, marketValue=-115000.0, averageCost=229.6761264, unrealizedPNL=-161.94, realizedPNL=0.0, account='DU1131437')\n",
      "INFO:ib_insync.wrapper:updatePortfolio: PortfolioItem(contract=Stock(conId=173962302, symbol='ANTM', right='0', primaryExchange='NYSE', currency='USD', localSymbol='ANTM', tradingClass='ANTM'), position=-400.0, marketPrice=266.4299927, marketValue=-106572.0, averageCost=265.2793895, unrealizedPNL=-460.24, realizedPNL=0.0, account='DU1131437')\n"
     ]
    }
   ],
   "source": [
    "profinit(17)"
   ]
  },
  {
   "cell_type": "code",
   "execution_count": null,
   "metadata": {},
   "outputs": [],
   "source": []
  }
 ],
 "metadata": {
  "kernelspec": {
   "display_name": "Prophetic",
   "language": "python",
   "name": "proph"
  },
  "language_info": {
   "codemirror_mode": {
    "name": "ipython",
    "version": 3
   },
   "file_extension": ".py",
   "mimetype": "text/x-python",
   "name": "python",
   "nbconvert_exporter": "python",
   "pygments_lexer": "ipython3",
   "version": "3.7.3"
  }
 },
 "nbformat": 4,
 "nbformat_minor": 2
}
